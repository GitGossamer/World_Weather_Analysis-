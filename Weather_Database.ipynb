{
 "cells": [
  {
   "cell_type": "code",
   "execution_count": 1,
   "id": "28f85520",
   "metadata": {},
   "outputs": [],
   "source": [
    "# DELIVERABLE 1"
   ]
  },
  {
   "cell_type": "code",
   "execution_count": 2,
   "id": "4082caf0",
   "metadata": {},
   "outputs": [],
   "source": [
    "# Import the dependencies.\n",
    "import pandas as pd\n",
    "import matplotlib.pyplot as plt\n",
    "import numpy as np\n",
    "\n",
    "#import weather API\n",
    "from config import weather_api_key\n",
    "\n",
    "#import requests so that you can make calls to open weather service\n",
    "import requests\n",
    "\n",
    "# Use the citipy module to determine city based on latitude and longitude.\n",
    "from citipy import citipy"
   ]
  },
  {
   "cell_type": "code",
   "execution_count": 3,
   "id": "effe3e61",
   "metadata": {},
   "outputs": [
    {
     "data": {
      "text/plain": [
       "<zip at 0x1ceaea8c308>"
      ]
     },
     "execution_count": 3,
     "metadata": {},
     "output_type": "execute_result"
    }
   ],
   "source": [
    "# Create a set of random latitude and longitude combinations.\n",
    "lats = np.random.uniform(low=-90.000, high=90.000, size=1500)\n",
    "lngs = np.random.uniform(low=-180.000, high=180.000, size=1500)\n",
    "lat_lngs = zip(lats, lngs)\n",
    "lat_lngs"
   ]
  },
  {
   "cell_type": "code",
   "execution_count": 4,
   "id": "78a2fc90",
   "metadata": {},
   "outputs": [],
   "source": [
    "# Add the latitudes and longitudes to a list.\n",
    "coordinates = list(lat_lngs)"
   ]
  },
  {
   "cell_type": "code",
   "execution_count": 5,
   "id": "39c03151",
   "metadata": {},
   "outputs": [
    {
     "name": "stdout",
     "output_type": "stream",
     "text": [
      "Requirement already satisfied: citipy in c:\\users\\m163075\\anaconda3\\envs\\pythondata\\lib\\site-packages (0.0.5)\n",
      "Requirement already satisfied: kdtree>=0.12 in c:\\users\\m163075\\anaconda3\\envs\\pythondata\\lib\\site-packages (from citipy) (0.16)\n",
      "Note: you may need to restart the kernel to use updated packages.\n"
     ]
    }
   ],
   "source": [
    "pip install citipy"
   ]
  },
  {
   "cell_type": "code",
   "execution_count": 6,
   "id": "34ed0403",
   "metadata": {},
   "outputs": [
    {
     "data": {
      "text/plain": [
       "605"
      ]
     },
     "execution_count": 6,
     "metadata": {},
     "output_type": "execute_result"
    }
   ],
   "source": [
    "# Create a list for holding the cities.\n",
    "cities = []\n",
    "# Identify the nearest city for each latitude and longitude combination.\n",
    "for coordinate in coordinates:\n",
    "    city = citipy.nearest_city(coordinate[0], coordinate[1]).city_name\n",
    "\n",
    "    # If the city is unique, then we will add it to the cities list.\n",
    "    if city not in cities:\n",
    "        cities.append(city)\n",
    "# Print the city count to confirm sufficient count.\n",
    "len(cities)"
   ]
  },
  {
   "cell_type": "code",
   "execution_count": 7,
   "id": "93cae913",
   "metadata": {
    "scrolled": true
   },
   "outputs": [
    {
     "name": "stdout",
     "output_type": "stream",
     "text": [
      "['baruun-urt', 'norman wells', 'torbay', 'azuaga', 'haines junction', 'labuhan', 'mar del plata', 'kapaa', 'carnarvon', 'ushuaia', 'ngukurr', 'port alfred', 'albany', 'jamestown', 'chimbote', 'upernavik', 'yellowknife', 'tasiilaq', 'bucerias', 'hilo', 'gornopravdinsk', 'georgetown', 'atuona', 'bucarasica', 'vaitupu', 'caceres', 'maarianhamina', 'mys shmidta', 'bredasdorp', 'chuy', 'muisne', 'saldanha', 'cururupu', 'biak', 'new norfolk', 'dalbandin', 'punta arenas', 'taolanaro', 'tuktoyaktuk', 'comodoro rivadavia', 'port elizabeth', 'hualmay', 'kahului', 'saint-denis', 'sagua la grande', 'busselton', 'cherskiy', 'cape town', 'codrington', 'pimentel', 'thompson', 'belushya guba', 'saint-philippe', 'kanniyakumari', 'east london', 'padang', 'butaritari', 'avarua', 'olga', 'paracuru', 'rikitea', 'pedro ii', 'datong', 'westport', 'dunedin', 'bluff', 'arraial do cabo', 'nikolskoye', 'gamba', 'hudiksvall', 'port hawkesbury', 'roma', 'laguna', 'esil', 'attawapiskat', 'dikson', 'faanui', 'mahebourg', 'dudinka', 'mataura', 'acapulco', 'kruisfontein', 'kutum', 'nome', 'baykit', 'saint george', 'merritt', 'providencia', 'urdzhar', 'quzhou', 'kodiak', 'khatanga', 'fairbanks', 'sao filipe', 'vaini', 'nanortalik', 'ayna', 'waingapu', 'wonthaggi', 'dhidhdhoo', 'visby', 'miri', 'ilovlya', 'college', 'qaanaaq', 'nuuk', 'marzuq', 'pousat', 'port lincoln', 'amderma', 'nizhneyansk', 'majene', 'villa alemana', 'meulaboh', 'akdepe', 'kaitangata', 'pevek', 'tlahualilo', 'puerto ayora', 'barstow', 'manaus', 'hermanus', 'pineville', 'hambantota', 'saint-joseph', 'mantua', 'asyut', 'ponta delgada', 'high rock', 'pangody', 'goderich', 'prince rupert', 'novoilinsk', 'grand river south east', 'yanam', 'leshukonskoye', 'artesia', 'joshimath', 'husavik', 'lompoc', 'geraldton', 'terrak', 'khor', 'novonikolayevskiy', 'alice springs', 'poum', 'soderhamn', 'provideniya', 'trairi', 'north platte', 'barentsburg', 'kununurra', 'longyearbyen', 'kommunar', 'newport', 'namibe', 'parintins', 'bacuit', 'sao bernardo', 'palmer', 'baza', 'sentyabrskiy', 'severo-kurilsk', 'bilibino', 'olafsvik', 'mopipi', 'zyryanovsk', 'san patricio', 'acarau', 'mananjary', 'kavieng', 'hounde', 'junnar', 'papetoai', 'castro alves', 'grand gaube', 'mehamn', 'talnakh', 'yerbogachen', 'broome', 'cabo san lucas', 'bonfim', 'misratah', 'tuatapere', 'milkovo', 'tiksi', 'namatanai', 'la ronge', 'libertad', 'samarai', 'kamenskoye', 'svobodnyy', 'illoqqortoormiut', 'saint-pierre', 'trois-rivieres', 'bambous virieux', 'west bay', 'bargal', 'bolungarvik', 'hobart', 'clarence town', 'saint-alexandre', 'bahir dar', 'olinda', 'stavyshche', 'gari', 'ponta do sol', 'jishou', 'rungata', 'piotrkow trybunalski', 'tsihombe', 'katastarion', 'pringsewu', 'masuda', 'bud', 'polunochnoye', 'sao joao da barra', 'taupo', 'tuchkovo', 'guilin', 'tual', 'chilca', 'palasa', 'qaqortoq', 'phan thiet', 'russell', 'meadow lake', 'tawau', 'twentynine palms', 'puerto escondido', 'hovd', 'amot', 'zyryanka', 'puerto colombia', 'vestmannaeyjar', 'arezzo', 'taboga', 'komatipoort', 'perote', 'oeiras do para', 'bac ninh', 'tessalit', 'saint anthony', 'naze', 'sorland', 'lebu', 'guaraniacu', 'santa cruz', 'halalo', 'caravelas', 'sinnamary', 'yuanping', 'new albany', 'port hedland', 'narsaq', 'chokurdakh', 'luganville', 'kalabo', 'sao joao batista', 'nantucket', 'panipat', 'te anau', 'kidal', 'deputatskiy', 'hervey bay', 'coquimbo', 'tambura', 'bethel', 'kainantu', 'waipawa', 'eydhafushi', 'jumla', 'samalaeulu', 'quthing', 'hithadhoo', 'nhulunbuy', 'chake chake', 'sarkikaraagac', 'aybak', 'kudahuvadhoo', 'inuvik', 'ribeira grande', 'valparaiso', 'kostino', 'souillac', 'grindavik', 'vavozh', 'viljoenskroon', 'shingu', 'shawinigan', 'pisco', 'asau', 'pokhara', 'stillwater', 'castro', 'mae hong son', 'kaabong', 'denpasar', 'timmins', 'natal', 'manuk mangkaw', 'atar', 'airai', 'touros', 'puri', 'yirol', 'vardo', 'alyangula', 'warqla', 'moerai', 'morden', 'palu', 'qingan', 'samusu', 'sabang', 'kampene', 'may pen', 'salalah', 'glendive', 'kollumerland', 'ozernovskiy', 'gondanglegi', 'saskylakh', 'wad madani', 'tambacounda', 'sobolevo', 'berlevag', 'katsuura', 'alofi', 'fulitun', 'cidreira', 'vila', 'marawi', 'ixtapa', 'kutulik', 'amahai', 'honningsvag', 'vanimo', 'kralendijk', 'mafinga', 'dunmore town', 'srandakan', 'san policarpo', 'camacha', 'balkhash', 'aden', 'ilulissat', 'kisangani', 'behbahan', 'aloleng', 'doha', 'ketchikan', 'anadyr', 'tabou', 'krasnoselkup', 'muros', 'manado', 'sisimiut', 'okhotsk', 'los llanos de aridane', 'santo andre', 'la rioja', 'hasaki', 'wairoa', 'novobirilyussy', 'skibbereen', 'praia da vitoria', 'san quintin', 'barrow', 'janoshaza', 'port shepstone', 'wenatchee', 'dinsor', 'kikwit', 'klaksvik', 'portland', 'ancud', 'monroe', 'lasa', 'salina cruz', 'erzin', 'carballo', 'vila franca do campo', 'christchurch', 'pochutla', 'silyanah', 'kastamonu', 'lagunas', 'buon me thuot', 'evensk', 'pedasi', 'north bend', 'mattru', 'coruripe', 'beira', 'oxbow', 'salinas', 'casas grandes', 'sitka', 'inhambane', 'izumo', 'bathsheba', 'rapid city', 'buraydah', 'iquitos', 'kabala', 'smithers', 'tulun', 'khilok', 'caucasia', 'atikokan', 'bengkulu', 'korcula', 'kambove', 'udachnyy', 'mahibadhoo', 'traverse city', 'havoysund', 'yar', 'khakhea', 'tsentralnyy', 'vila velha', 'kousseri', 'tilichiki', 'tefe', 'leo', 'werda', 'bunesti', 'maniitsoq', 'mme', 'araguacu', 'ayia galini', 'kemin', 'fiumicino', 'ambodifototra', 'marsh harbour', 'porto walter', 'rakiv lis', 'mandla', 'dwarka', 'adrar', 'luderitz', 'karpathos', 'taburi', 'roebourne', 'dryden', 'villablino', 'jiwani', 'skalistyy', 'xapuri', 'cintalapa', 'jibuti', 'ilheus', 'syracuse', 'eau claire', 'cockburn town', 'kitimat', 'limoeiro do ajuru', 'brigantine', 'iqaluit', 'eureka', 'leningradskiy', 'kholodnyy', 'sydney mines', 'victoria', 'astana', 'urumqi', 'guerrero negro', 'lufilufi', 'tura', 'azimur', 'biltine', 'igarka', 'port-cartier', 'taltal', 'vilcun', 'katsiveli', 'samfya', 'ukiah', 'lubango', 'otradnoye', 'kamina', 'fortuna', 'isangel', 'buta', 'prado', 'gaya', 'neyvo-shaytanskiy', 'talara', 'mandera', 'portree', 'chernyshevskiy', 'khash', 'kuche', 'dubovyy umet', 'kargasok', 'anloga', 'mogadishu', 'mount isa', 'galveston', 'khammam', 'somerset east', 'tarudant', 'ajdabiya', 'alanya', 'constitucion', 'mitu', 'gat', 'manturovo', 'bairiki', 'broken hill', 'ust-ishim', 'madaripur', 'san cristobal', 'novyy urengoy', 'san carlos de bariloche', 'knysna', 'elko', 'rocha', 'kalmunai', 'rincon de la victoria', 'kroya', 'esperance', 'shipitsyno', 'richards bay', 'tanete', 'mount gambier', 'calama', 'alekseyevsk', 'puerto del rosario', 'sinop', 'shakhtinsk', 'vallenar', 'rawson', 'port moresby', 'dankaur', 'maple creek', 'tumannyy', 'port blair', 'portales', 'cap malheureux', 'balkanabat', 'maragogi', 'sangar', 'zhigansk', 'havre-saint-pierre', 'taoudenni', 'falealupo', 'yulara', 'nagato', 'chaiyaphum', 'reconquista', 'paseh', 'yuxia', 'sanghar', 'puerto lumbreras', 'chulman', 'bur gabo', 'matamoros', 'karratha', 'big spring', 'tungawan', 'sinkat', 'nakusp', 'dayong', 'vanavara', 'bandarbeyla', 'lagoa', 'ambon', 'harper', 'innisfail', 'formosa', 'pitimbu', 'kondinskoye', 'changli', 'makakilo city', 'ostrovnoy', 'havre', 'daura', 'zarubino', 'osmena', 'puro', 'eyl', 'temnikov', 'voh', 'borogontsy', 'murgab', 'hay river', 'limbang', 'aripuana', 'shimoda', 'boralday', 'dobsina', 'aklavik', 'atambua', 'djibo', 'thinadhoo', 'montevideo', 'dongsheng', 'butterworth', 'penzance', 'bambanglipuro', 'lavrentiya', 'mrirt', 'tabiauea']\n"
     ]
    }
   ],
   "source": [
    "print(cities)"
   ]
  },
  {
   "cell_type": "code",
   "execution_count": 8,
   "id": "9f2ca6bd",
   "metadata": {},
   "outputs": [],
   "source": [
    "# Starting URL for Weather Map API Call.\n",
    "url = \"http://api.openweathermap.org/data/2.5/weather?units=Imperial&APPID=\" + weather_api_key"
   ]
  },
  {
   "cell_type": "code",
   "execution_count": 9,
   "id": "6296a0b3",
   "metadata": {},
   "outputs": [
    {
     "data": {
      "text/plain": [
       "'2.27.1'"
      ]
     },
     "execution_count": 9,
     "metadata": {},
     "output_type": "execute_result"
    }
   ],
   "source": [
    "#import requests from config import weather_api_key. \n",
    "#To request JSON data over the internet, we use the Requests Library in Python.\n",
    "requests.__version__"
   ]
  },
  {
   "cell_type": "code",
   "execution_count": 10,
   "id": "39ae133a",
   "metadata": {},
   "outputs": [
    {
     "name": "stdout",
     "output_type": "stream",
     "text": [
      "http://api.openweathermap.org/data/2.5/weather?units=Imperial&APPID=6c66bb8f5a2afa2447acb0843b61c5cd&q=\n"
     ]
    }
   ],
   "source": [
    "# Create an endpoint URL for a city.\n",
    "city_url = url + \"&q=\" \n",
    "print(city_url)"
   ]
  },
  {
   "cell_type": "code",
   "execution_count": 11,
   "id": "c6c0684f",
   "metadata": {},
   "outputs": [
    {
     "data": {
      "text/plain": [
       "<Response [400]>"
      ]
     },
     "execution_count": 11,
     "metadata": {},
     "output_type": "execute_result"
    }
   ],
   "source": [
    "# Make a 'Get' request for the city weather.\n",
    "city_weather = requests.get(city_url)\n",
    "city_weather"
   ]
  },
  {
   "cell_type": "code",
   "execution_count": 12,
   "id": "d24036c5",
   "metadata": {},
   "outputs": [
    {
     "data": {
      "text/plain": [
       "<Response [400]>"
      ]
     },
     "execution_count": 12,
     "metadata": {},
     "output_type": "execute_result"
    }
   ],
   "source": [
    "# Create an endpoint URL for a city.\n",
    "city_url = url + \"&q=\" \n",
    "city_weather = requests.get(city_url)\n",
    "city_weather"
   ]
  },
  {
   "cell_type": "code",
   "execution_count": 13,
   "id": "d992ebff",
   "metadata": {},
   "outputs": [
    {
     "data": {
      "text/plain": [
       "<Response [200]>"
      ]
     },
     "execution_count": 13,
     "metadata": {},
     "output_type": "execute_result"
    }
   ],
   "source": [
    "# Create an endpoint URL for a city.\n",
    "city_url = url + \"&q=\" + \"Boston\"\n",
    "city_weather = requests.get(city_url)\n",
    "city_weather"
   ]
  },
  {
   "cell_type": "code",
   "execution_count": 14,
   "id": "91c7a3a5",
   "metadata": {},
   "outputs": [
    {
     "data": {
      "text/plain": [
       "'{\"coord\":{\"lon\":-71.0598,\"lat\":42.3584},\"weather\":[{\"id\":800,\"main\":\"Clear\",\"description\":\"clear sky\",\"icon\":\"01d\"}],\"base\":\"stations\",\"main\":{\"temp\":40.87,\"feels_like\":35.65,\"temp_min\":37.67,\"temp_max\":43.68,\"pressure\":1017,\"humidity\":48},\"visibility\":10000,\"wind\":{\"speed\":8.01,\"deg\":304,\"gust\":14},\"clouds\":{\"all\":1},\"dt\":1644429145,\"sys\":{\"type\":2,\"id\":2013408,\"country\":\"US\",\"sunrise\":1644407328,\"sunset\":1644444494},\"timezone\":-18000,\"id\":4930956,\"name\":\"Boston\",\"cod\":200}'"
      ]
     },
     "execution_count": 14,
     "metadata": {},
     "output_type": "execute_result"
    }
   ],
   "source": [
    "# Get the text of the 'Get' request.\n",
    "city_weather.text"
   ]
  },
  {
   "cell_type": "code",
   "execution_count": 15,
   "id": "69c91aef",
   "metadata": {},
   "outputs": [
    {
     "data": {
      "text/plain": [
       "{'coord': {'lon': -71.0598, 'lat': 42.3584},\n",
       " 'weather': [{'id': 800,\n",
       "   'main': 'Clear',\n",
       "   'description': 'clear sky',\n",
       "   'icon': '01d'}],\n",
       " 'base': 'stations',\n",
       " 'main': {'temp': 40.87,\n",
       "  'feels_like': 35.65,\n",
       "  'temp_min': 37.67,\n",
       "  'temp_max': 43.68,\n",
       "  'pressure': 1017,\n",
       "  'humidity': 48},\n",
       " 'visibility': 10000,\n",
       " 'wind': {'speed': 8.01, 'deg': 304, 'gust': 14},\n",
       " 'clouds': {'all': 1},\n",
       " 'dt': 1644429145,\n",
       " 'sys': {'type': 2,\n",
       "  'id': 2013408,\n",
       "  'country': 'US',\n",
       "  'sunrise': 1644407328,\n",
       "  'sunset': 1644444494},\n",
       " 'timezone': -18000,\n",
       " 'id': 4930956,\n",
       " 'name': 'Boston',\n",
       " 'cod': 200}"
      ]
     },
     "execution_count": 15,
     "metadata": {},
     "output_type": "execute_result"
    }
   ],
   "source": [
    "# Get the JSON text of the 'Get' request.\n",
    "city_weather.json()"
   ]
  },
  {
   "cell_type": "code",
   "execution_count": 16,
   "id": "dd1c1909",
   "metadata": {},
   "outputs": [
    {
     "name": "stdout",
     "output_type": "stream",
     "text": [
      "http://api.openweathermap.org/data/2.5/weather?units=Imperial&APPID=6c66bb8f5a2afa2447acb0843b61c5cd&q=Boston\n"
     ]
    }
   ],
   "source": [
    "print(city_url)"
   ]
  },
  {
   "cell_type": "code",
   "execution_count": 17,
   "id": "4018277d",
   "metadata": {},
   "outputs": [
    {
     "data": {
      "text/plain": [
       "{'coord': {'lon': -71.0598, 'lat': 42.3584},\n",
       " 'weather': [{'id': 800,\n",
       "   'main': 'Clear',\n",
       "   'description': 'clear sky',\n",
       "   'icon': '01d'}],\n",
       " 'base': 'stations',\n",
       " 'main': {'temp': 40.87,\n",
       "  'feels_like': 35.65,\n",
       "  'temp_min': 37.67,\n",
       "  'temp_max': 43.68,\n",
       "  'pressure': 1017,\n",
       "  'humidity': 48},\n",
       " 'visibility': 10000,\n",
       " 'wind': {'speed': 8.01, 'deg': 304, 'gust': 14},\n",
       " 'clouds': {'all': 1},\n",
       " 'dt': 1644429145,\n",
       " 'sys': {'type': 2,\n",
       "  'id': 2013408,\n",
       "  'country': 'US',\n",
       "  'sunrise': 1644407328,\n",
       "  'sunset': 1644444494},\n",
       " 'timezone': -18000,\n",
       " 'id': 4930956,\n",
       " 'name': 'Boston',\n",
       " 'cod': 200}"
      ]
     },
     "execution_count": 17,
     "metadata": {},
     "output_type": "execute_result"
    }
   ],
   "source": [
    "# Create an endpoint URL for a city.\n",
    "city_url = url + \"&q=\" + \"Boston\"\n",
    "city_weather = requests.get(city_url)\n",
    "city_weather.json()"
   ]
  },
  {
   "cell_type": "code",
   "execution_count": 18,
   "id": "0ebe762f",
   "metadata": {},
   "outputs": [],
   "source": [
    "# Get the JSON data.\n",
    "boston_data = city_weather.json()"
   ]
  },
  {
   "cell_type": "code",
   "execution_count": 19,
   "id": "c6ff7f27",
   "metadata": {},
   "outputs": [
    {
     "data": {
      "text/plain": [
       "{'type': 2,\n",
       " 'id': 2013408,\n",
       " 'country': 'US',\n",
       " 'sunrise': 1644407328,\n",
       " 'sunset': 1644444494}"
      ]
     },
     "execution_count": 19,
     "metadata": {},
     "output_type": "execute_result"
    }
   ],
   "source": [
    "# The values for the sunrise and sunset keys are the time of day in seconds in a database timestamp format\n",
    "boston_data['sys']"
   ]
  },
  {
   "cell_type": "code",
   "execution_count": 20,
   "id": "f0ff7892",
   "metadata": {},
   "outputs": [
    {
     "data": {
      "text/plain": [
       "1644429145"
      ]
     },
     "execution_count": 20,
     "metadata": {},
     "output_type": "execute_result"
    }
   ],
   "source": [
    "# If we want to retrieve the date in the weather data, we would add the \"dt\" key to the boston_data variable\n",
    "boston_data[\"dt\"]"
   ]
  },
  {
   "cell_type": "code",
   "execution_count": 21,
   "id": "e04b1fdc",
   "metadata": {},
   "outputs": [
    {
     "data": {
      "text/plain": [
       "42.3584"
      ]
     },
     "execution_count": 21,
     "metadata": {},
     "output_type": "execute_result"
    }
   ],
   "source": [
    "# Retreive latitude value from the Boston JSON data:\n",
    "boston_data[\"coord\"][\"lat\"]"
   ]
  },
  {
   "cell_type": "code",
   "execution_count": 22,
   "id": "45d327a5",
   "metadata": {},
   "outputs": [
    {
     "data": {
      "text/plain": [
       "43.68"
      ]
     },
     "execution_count": 22,
     "metadata": {},
     "output_type": "execute_result"
    }
   ],
   "source": [
    "# Get the maximum temperature value from the Boston JSON data\n",
    "boston_data[\"main\"][\"temp_max\"]"
   ]
  },
  {
   "cell_type": "code",
   "execution_count": 23,
   "id": "c708796f",
   "metadata": {},
   "outputs": [
    {
     "name": "stdout",
     "output_type": "stream",
     "text": [
      "42.3584 -71.0598 43.68 48 1 8.01\n"
     ]
    }
   ],
   "source": [
    "lat = boston_data[\"coord\"][\"lat\"]\n",
    "lng = boston_data[\"coord\"][\"lon\"]\n",
    "max_temp = boston_data[\"main\"][\"temp_max\"]\n",
    "humidity = boston_data[\"main\"][\"humidity\"]\n",
    "clouds = boston_data[\"clouds\"][\"all\"]\n",
    "wind = boston_data[\"wind\"][\"speed\"]\n",
    "print(lat, lng, max_temp, humidity, clouds, wind)"
   ]
  },
  {
   "cell_type": "code",
   "execution_count": 24,
   "id": "6139710a",
   "metadata": {},
   "outputs": [
    {
     "data": {
      "text/plain": [
       "datetime.datetime(2022, 2, 9, 17, 52, 25)"
      ]
     },
     "execution_count": 24,
     "metadata": {},
     "output_type": "execute_result"
    }
   ],
   "source": [
    "# Import the datetime module from the datetime library.\n",
    "from datetime import datetime\n",
    "\n",
    "# Get the date from the JSON file.\n",
    "date = boston_data[\"dt\"]\n",
    "\n",
    "# Convert the UTC date to a date format with year, month, day, hours, minutes, and seconds.\n",
    "datetime.utcfromtimestamp(date)"
   ]
  },
  {
   "cell_type": "code",
   "execution_count": 25,
   "id": "e0b7a3fd",
   "metadata": {},
   "outputs": [
    {
     "data": {
      "text/plain": [
       "'2022-02-09 17:52:25'"
      ]
     },
     "execution_count": 25,
     "metadata": {},
     "output_type": "execute_result"
    }
   ],
   "source": [
    "# We can convert this datetime format to 2022-02-03 22:41:37 using the Python string format method strftime() \n",
    "# and adding how we want the string to look inside the parentheses.\n",
    "datetime.utcfromtimestamp(date).strftime('%Y-%m-%d %H:%M:%S')"
   ]
  },
  {
   "cell_type": "code",
   "execution_count": 26,
   "id": "f5ea8659",
   "metadata": {},
   "outputs": [],
   "source": [
    "# Import the time library and the datetime module from the datetime library \n",
    "import time\n",
    "from datetime import datetime"
   ]
  },
  {
   "cell_type": "code",
   "execution_count": 27,
   "id": "e7420245",
   "metadata": {},
   "outputs": [
    {
     "name": "stdout",
     "output_type": "stream",
     "text": [
      "Beginning Data Retrieval     \n",
      "-----------------------------\n"
     ]
    }
   ],
   "source": [
    "# Create an empty list to hold the weather data.\n",
    "city_data = []\n",
    "# Print the beginning of the logging.\n",
    "print(\"Beginning Data Retrieval     \")\n",
    "print(\"-----------------------------\")\n",
    "\n",
    "# Create counters.\n",
    "record_count = 1\n",
    "set_count = 1"
   ]
  },
  {
   "cell_type": "code",
   "execution_count": 28,
   "id": "fe3102da",
   "metadata": {},
   "outputs": [],
   "source": [
    "# # Loop through all the cities in our list (6.2.6).\n",
    "# for i in range(len(cities)):\n",
    "\n",
    "#     # Group cities in sets of 50 for logging purposes.\n",
    "#     if (i % 50 == 0 and i >= 50):\n",
    "#         set_count += 1\n",
    "#         record_count = 1\n",
    "#         time.sleep(60)\n",
    "\n",
    "#     # Create endpoint URL with each city.\n",
    "#     city_url = url + \"&q=\" + cities[i]"
   ]
  },
  {
   "cell_type": "code",
   "execution_count": 36,
   "id": "96aa7065",
   "metadata": {},
   "outputs": [
    {
     "name": "stdout",
     "output_type": "stream",
     "text": [
      "Processing Record 1 of Set 2 | baruun-urt\n",
      "Processing Record 2 of Set 2 | norman wells\n",
      "Processing Record 3 of Set 2 | torbay\n",
      "Processing Record 4 of Set 2 | azuaga\n",
      "Processing Record 5 of Set 2 | haines junction\n",
      "Processing Record 6 of Set 2 | labuhan\n",
      "Processing Record 7 of Set 2 | mar del plata\n",
      "Processing Record 8 of Set 2 | kapaa\n",
      "Processing Record 9 of Set 2 | carnarvon\n",
      "Processing Record 10 of Set 2 | ushuaia\n",
      "Processing Record 11 of Set 2 | ngukurr\n",
      "City not found. Skipping...\n",
      "Processing Record 12 of Set 2 | port alfred\n",
      "Processing Record 13 of Set 2 | albany\n",
      "Processing Record 14 of Set 2 | jamestown\n",
      "Processing Record 15 of Set 2 | chimbote\n",
      "Processing Record 16 of Set 2 | upernavik\n",
      "Processing Record 17 of Set 2 | yellowknife\n",
      "Processing Record 18 of Set 2 | tasiilaq\n",
      "Processing Record 19 of Set 2 | bucerias\n",
      "Processing Record 20 of Set 2 | hilo\n",
      "Processing Record 21 of Set 2 | gornopravdinsk\n",
      "Processing Record 22 of Set 2 | georgetown\n",
      "Processing Record 23 of Set 2 | atuona\n",
      "Processing Record 24 of Set 2 | bucarasica\n",
      "Processing Record 25 of Set 2 | vaitupu\n",
      "City not found. Skipping...\n",
      "Processing Record 26 of Set 2 | caceres\n",
      "Processing Record 27 of Set 2 | maarianhamina\n",
      "Processing Record 28 of Set 2 | mys shmidta\n",
      "City not found. Skipping...\n",
      "Processing Record 29 of Set 2 | bredasdorp\n",
      "Processing Record 30 of Set 2 | chuy\n",
      "Processing Record 31 of Set 2 | muisne\n",
      "Processing Record 32 of Set 2 | saldanha\n",
      "Processing Record 33 of Set 2 | cururupu\n",
      "Processing Record 34 of Set 2 | biak\n",
      "Processing Record 35 of Set 2 | new norfolk\n",
      "Processing Record 36 of Set 2 | dalbandin\n",
      "Processing Record 37 of Set 2 | punta arenas\n",
      "Processing Record 38 of Set 2 | taolanaro\n",
      "City not found. Skipping...\n",
      "Processing Record 39 of Set 2 | tuktoyaktuk\n",
      "Processing Record 40 of Set 2 | comodoro rivadavia\n",
      "Processing Record 41 of Set 2 | port elizabeth\n",
      "Processing Record 42 of Set 2 | hualmay\n",
      "Processing Record 43 of Set 2 | kahului\n",
      "Processing Record 44 of Set 2 | saint-denis\n",
      "Processing Record 45 of Set 2 | sagua la grande\n",
      "Processing Record 46 of Set 2 | busselton\n",
      "Processing Record 47 of Set 2 | cherskiy\n",
      "Processing Record 48 of Set 2 | cape town\n",
      "Processing Record 49 of Set 2 | codrington\n",
      "Processing Record 50 of Set 2 | pimentel\n",
      "Processing Record 1 of Set 3 | thompson\n",
      "Processing Record 2 of Set 3 | belushya guba\n",
      "City not found. Skipping...\n",
      "Processing Record 3 of Set 3 | saint-philippe\n",
      "Processing Record 4 of Set 3 | kanniyakumari\n",
      "Processing Record 5 of Set 3 | east london\n",
      "Processing Record 6 of Set 3 | padang\n",
      "Processing Record 7 of Set 3 | butaritari\n",
      "Processing Record 8 of Set 3 | avarua\n",
      "Processing Record 9 of Set 3 | olga\n",
      "Processing Record 10 of Set 3 | paracuru\n",
      "Processing Record 11 of Set 3 | rikitea\n",
      "Processing Record 12 of Set 3 | pedro ii\n",
      "Processing Record 13 of Set 3 | datong\n",
      "Processing Record 14 of Set 3 | westport\n",
      "Processing Record 15 of Set 3 | dunedin\n",
      "Processing Record 16 of Set 3 | bluff\n",
      "Processing Record 17 of Set 3 | arraial do cabo\n",
      "Processing Record 18 of Set 3 | nikolskoye\n",
      "Processing Record 19 of Set 3 | gamba\n",
      "Processing Record 20 of Set 3 | hudiksvall\n",
      "Processing Record 21 of Set 3 | port hawkesbury\n",
      "Processing Record 22 of Set 3 | roma\n",
      "Processing Record 23 of Set 3 | laguna\n",
      "Processing Record 24 of Set 3 | esil\n",
      "Processing Record 25 of Set 3 | attawapiskat\n",
      "City not found. Skipping...\n",
      "Processing Record 26 of Set 3 | dikson\n",
      "Processing Record 27 of Set 3 | faanui\n",
      "Processing Record 28 of Set 3 | mahebourg\n",
      "Processing Record 29 of Set 3 | dudinka\n",
      "Processing Record 30 of Set 3 | mataura\n",
      "Processing Record 31 of Set 3 | acapulco\n",
      "Processing Record 32 of Set 3 | kruisfontein\n",
      "Processing Record 33 of Set 3 | kutum\n",
      "Processing Record 34 of Set 3 | nome\n",
      "Processing Record 35 of Set 3 | baykit\n",
      "Processing Record 36 of Set 3 | saint george\n",
      "Processing Record 37 of Set 3 | merritt\n",
      "Processing Record 38 of Set 3 | providencia\n",
      "Processing Record 39 of Set 3 | urdzhar\n",
      "City not found. Skipping...\n",
      "Processing Record 40 of Set 3 | quzhou\n",
      "Processing Record 41 of Set 3 | kodiak\n",
      "Processing Record 42 of Set 3 | khatanga\n",
      "Processing Record 43 of Set 3 | fairbanks\n",
      "Processing Record 44 of Set 3 | sao filipe\n",
      "Processing Record 45 of Set 3 | vaini\n",
      "Processing Record 46 of Set 3 | nanortalik\n",
      "Processing Record 47 of Set 3 | ayna\n",
      "Processing Record 48 of Set 3 | waingapu\n",
      "Processing Record 49 of Set 3 | wonthaggi\n",
      "Processing Record 50 of Set 3 | dhidhdhoo\n",
      "Processing Record 1 of Set 4 | visby\n",
      "Processing Record 2 of Set 4 | miri\n",
      "Processing Record 3 of Set 4 | ilovlya\n",
      "Processing Record 4 of Set 4 | college\n",
      "Processing Record 5 of Set 4 | qaanaaq\n",
      "Processing Record 6 of Set 4 | nuuk\n",
      "Processing Record 7 of Set 4 | marzuq\n",
      "Processing Record 8 of Set 4 | pousat\n",
      "City not found. Skipping...\n",
      "Processing Record 9 of Set 4 | port lincoln\n",
      "Processing Record 10 of Set 4 | amderma\n",
      "City not found. Skipping...\n",
      "Processing Record 11 of Set 4 | nizhneyansk\n",
      "City not found. Skipping...\n",
      "Processing Record 12 of Set 4 | majene\n",
      "Processing Record 13 of Set 4 | villa alemana\n",
      "Processing Record 14 of Set 4 | meulaboh\n",
      "Processing Record 15 of Set 4 | akdepe\n",
      "Processing Record 16 of Set 4 | kaitangata\n",
      "Processing Record 17 of Set 4 | pevek\n",
      "Processing Record 18 of Set 4 | tlahualilo\n",
      "City not found. Skipping...\n",
      "Processing Record 19 of Set 4 | puerto ayora\n",
      "Processing Record 20 of Set 4 | barstow\n",
      "Processing Record 21 of Set 4 | manaus\n",
      "Processing Record 22 of Set 4 | hermanus\n",
      "Processing Record 23 of Set 4 | pineville\n",
      "Processing Record 24 of Set 4 | hambantota\n",
      "Processing Record 25 of Set 4 | saint-joseph\n",
      "Processing Record 26 of Set 4 | mantua\n",
      "Processing Record 27 of Set 4 | asyut\n",
      "Processing Record 28 of Set 4 | ponta delgada\n",
      "Processing Record 29 of Set 4 | high rock\n",
      "Processing Record 30 of Set 4 | pangody\n",
      "Processing Record 31 of Set 4 | goderich\n",
      "Processing Record 32 of Set 4 | prince rupert\n",
      "Processing Record 33 of Set 4 | novoilinsk\n",
      "Processing Record 34 of Set 4 | grand river south east\n",
      "City not found. Skipping...\n",
      "Processing Record 35 of Set 4 | yanam\n",
      "Processing Record 36 of Set 4 | leshukonskoye\n",
      "Processing Record 37 of Set 4 | artesia\n",
      "Processing Record 38 of Set 4 | joshimath\n",
      "Processing Record 39 of Set 4 | husavik\n",
      "Processing Record 40 of Set 4 | lompoc\n",
      "Processing Record 41 of Set 4 | geraldton\n",
      "Processing Record 42 of Set 4 | terrak\n",
      "Processing Record 43 of Set 4 | khor\n",
      "Processing Record 44 of Set 4 | novonikolayevskiy\n",
      "Processing Record 45 of Set 4 | alice springs\n",
      "Processing Record 46 of Set 4 | poum\n",
      "Processing Record 47 of Set 4 | soderhamn\n",
      "Processing Record 48 of Set 4 | provideniya\n",
      "Processing Record 49 of Set 4 | trairi\n",
      "Processing Record 50 of Set 4 | north platte\n",
      "Processing Record 1 of Set 5 | barentsburg\n",
      "City not found. Skipping...\n",
      "Processing Record 2 of Set 5 | kununurra\n",
      "Processing Record 3 of Set 5 | longyearbyen\n",
      "Processing Record 4 of Set 5 | kommunar\n",
      "Processing Record 5 of Set 5 | newport\n",
      "Processing Record 6 of Set 5 | namibe\n",
      "Processing Record 7 of Set 5 | parintins\n",
      "Processing Record 8 of Set 5 | bacuit\n",
      "City not found. Skipping...\n",
      "Processing Record 9 of Set 5 | sao bernardo\n",
      "Processing Record 10 of Set 5 | palmer\n",
      "Processing Record 11 of Set 5 | baza\n",
      "Processing Record 12 of Set 5 | sentyabrskiy\n",
      "City not found. Skipping...\n",
      "Processing Record 13 of Set 5 | severo-kurilsk\n",
      "Processing Record 14 of Set 5 | bilibino\n",
      "Processing Record 15 of Set 5 | olafsvik\n",
      "Processing Record 16 of Set 5 | mopipi\n",
      "Processing Record 17 of Set 5 | zyryanovsk\n",
      "Processing Record 18 of Set 5 | san patricio\n",
      "Processing Record 19 of Set 5 | acarau\n",
      "Processing Record 20 of Set 5 | mananjary\n",
      "Processing Record 21 of Set 5 | kavieng\n",
      "Processing Record 22 of Set 5 | hounde\n",
      "Processing Record 23 of Set 5 | junnar\n",
      "Processing Record 24 of Set 5 | papetoai\n",
      "Processing Record 25 of Set 5 | castro alves\n",
      "Processing Record 26 of Set 5 | grand gaube\n",
      "Processing Record 27 of Set 5 | mehamn\n",
      "Processing Record 28 of Set 5 | talnakh\n",
      "Processing Record 29 of Set 5 | yerbogachen\n",
      "Processing Record 30 of Set 5 | broome\n",
      "Processing Record 31 of Set 5 | cabo san lucas\n",
      "Processing Record 32 of Set 5 | bonfim\n",
      "Processing Record 33 of Set 5 | misratah\n",
      "Processing Record 34 of Set 5 | tuatapere\n",
      "Processing Record 35 of Set 5 | milkovo\n",
      "Processing Record 36 of Set 5 | tiksi\n",
      "Processing Record 37 of Set 5 | namatanai\n",
      "Processing Record 38 of Set 5 | la ronge\n",
      "Processing Record 39 of Set 5 | libertad\n"
     ]
    },
    {
     "name": "stdout",
     "output_type": "stream",
     "text": [
      "Processing Record 40 of Set 5 | samarai\n",
      "Processing Record 41 of Set 5 | kamenskoye\n",
      "City not found. Skipping...\n",
      "Processing Record 42 of Set 5 | svobodnyy\n",
      "Processing Record 43 of Set 5 | illoqqortoormiut\n",
      "City not found. Skipping...\n",
      "Processing Record 44 of Set 5 | saint-pierre\n",
      "Processing Record 45 of Set 5 | trois-rivieres\n",
      "Processing Record 46 of Set 5 | bambous virieux\n",
      "Processing Record 47 of Set 5 | west bay\n",
      "Processing Record 48 of Set 5 | bargal\n",
      "City not found. Skipping...\n",
      "Processing Record 49 of Set 5 | bolungarvik\n",
      "City not found. Skipping...\n",
      "Processing Record 50 of Set 5 | hobart\n",
      "Processing Record 1 of Set 6 | clarence town\n",
      "Processing Record 2 of Set 6 | saint-alexandre\n",
      "Processing Record 3 of Set 6 | bahir dar\n",
      "Processing Record 4 of Set 6 | olinda\n",
      "Processing Record 5 of Set 6 | stavyshche\n",
      "Processing Record 6 of Set 6 | gari\n",
      "Processing Record 7 of Set 6 | ponta do sol\n",
      "Processing Record 8 of Set 6 | jishou\n",
      "Processing Record 9 of Set 6 | rungata\n",
      "City not found. Skipping...\n",
      "Processing Record 10 of Set 6 | piotrkow trybunalski\n",
      "Processing Record 11 of Set 6 | tsihombe\n",
      "City not found. Skipping...\n",
      "Processing Record 12 of Set 6 | katastarion\n",
      "Processing Record 13 of Set 6 | pringsewu\n",
      "Processing Record 14 of Set 6 | masuda\n",
      "Processing Record 15 of Set 6 | bud\n",
      "Processing Record 16 of Set 6 | polunochnoye\n",
      "Processing Record 17 of Set 6 | sao joao da barra\n",
      "Processing Record 18 of Set 6 | taupo\n",
      "Processing Record 19 of Set 6 | tuchkovo\n",
      "Processing Record 20 of Set 6 | guilin\n",
      "Processing Record 21 of Set 6 | tual\n",
      "Processing Record 22 of Set 6 | chilca\n",
      "Processing Record 23 of Set 6 | palasa\n",
      "Processing Record 24 of Set 6 | qaqortoq\n",
      "Processing Record 25 of Set 6 | phan thiet\n",
      "Processing Record 26 of Set 6 | russell\n",
      "Processing Record 27 of Set 6 | meadow lake\n",
      "Processing Record 28 of Set 6 | tawau\n",
      "Processing Record 29 of Set 6 | twentynine palms\n",
      "Processing Record 30 of Set 6 | puerto escondido\n",
      "Processing Record 31 of Set 6 | hovd\n",
      "Processing Record 32 of Set 6 | amot\n",
      "Processing Record 33 of Set 6 | zyryanka\n",
      "Processing Record 34 of Set 6 | puerto colombia\n",
      "Processing Record 35 of Set 6 | vestmannaeyjar\n",
      "Processing Record 36 of Set 6 | arezzo\n",
      "Processing Record 37 of Set 6 | taboga\n",
      "Processing Record 38 of Set 6 | komatipoort\n",
      "Processing Record 39 of Set 6 | perote\n",
      "Processing Record 40 of Set 6 | oeiras do para\n",
      "Processing Record 41 of Set 6 | bac ninh\n",
      "Processing Record 42 of Set 6 | tessalit\n",
      "Processing Record 43 of Set 6 | saint anthony\n",
      "Processing Record 44 of Set 6 | naze\n",
      "Processing Record 45 of Set 6 | sorland\n",
      "Processing Record 46 of Set 6 | lebu\n",
      "Processing Record 47 of Set 6 | guaraniacu\n",
      "Processing Record 48 of Set 6 | santa cruz\n",
      "Processing Record 49 of Set 6 | halalo\n",
      "City not found. Skipping...\n",
      "Processing Record 50 of Set 6 | caravelas\n",
      "Processing Record 1 of Set 7 | sinnamary\n",
      "Processing Record 2 of Set 7 | yuanping\n",
      "Processing Record 3 of Set 7 | new albany\n",
      "Processing Record 4 of Set 7 | port hedland\n",
      "Processing Record 5 of Set 7 | narsaq\n",
      "Processing Record 6 of Set 7 | chokurdakh\n",
      "Processing Record 7 of Set 7 | luganville\n",
      "Processing Record 8 of Set 7 | kalabo\n",
      "Processing Record 9 of Set 7 | sao joao batista\n",
      "Processing Record 10 of Set 7 | nantucket\n",
      "Processing Record 11 of Set 7 | panipat\n",
      "Processing Record 12 of Set 7 | te anau\n",
      "Processing Record 13 of Set 7 | kidal\n",
      "Processing Record 14 of Set 7 | deputatskiy\n",
      "Processing Record 15 of Set 7 | hervey bay\n",
      "Processing Record 16 of Set 7 | coquimbo\n",
      "Processing Record 17 of Set 7 | tambura\n",
      "Processing Record 18 of Set 7 | bethel\n",
      "Processing Record 19 of Set 7 | kainantu\n",
      "Processing Record 20 of Set 7 | waipawa\n",
      "Processing Record 21 of Set 7 | eydhafushi\n",
      "Processing Record 22 of Set 7 | jumla\n",
      "Processing Record 23 of Set 7 | samalaeulu\n",
      "City not found. Skipping...\n",
      "Processing Record 24 of Set 7 | quthing\n",
      "Processing Record 25 of Set 7 | hithadhoo\n",
      "Processing Record 26 of Set 7 | nhulunbuy\n",
      "Processing Record 27 of Set 7 | chake chake\n",
      "Processing Record 28 of Set 7 | sarkikaraagac\n",
      "Processing Record 29 of Set 7 | aybak\n",
      "City not found. Skipping...\n",
      "Processing Record 30 of Set 7 | kudahuvadhoo\n",
      "Processing Record 31 of Set 7 | inuvik\n",
      "Processing Record 32 of Set 7 | ribeira grande\n",
      "Processing Record 33 of Set 7 | valparaiso\n",
      "Processing Record 34 of Set 7 | kostino\n",
      "Processing Record 35 of Set 7 | souillac\n",
      "Processing Record 36 of Set 7 | grindavik\n",
      "Processing Record 37 of Set 7 | vavozh\n",
      "Processing Record 38 of Set 7 | viljoenskroon\n",
      "Processing Record 39 of Set 7 | shingu\n",
      "Processing Record 40 of Set 7 | shawinigan\n",
      "Processing Record 41 of Set 7 | pisco\n",
      "Processing Record 42 of Set 7 | asau\n",
      "Processing Record 43 of Set 7 | pokhara\n",
      "Processing Record 44 of Set 7 | stillwater\n",
      "Processing Record 45 of Set 7 | castro\n",
      "Processing Record 46 of Set 7 | mae hong son\n",
      "Processing Record 47 of Set 7 | kaabong\n",
      "Processing Record 48 of Set 7 | denpasar\n",
      "Processing Record 49 of Set 7 | timmins\n",
      "Processing Record 50 of Set 7 | natal\n",
      "Processing Record 1 of Set 8 | manuk mangkaw\n",
      "Processing Record 2 of Set 8 | atar\n",
      "Processing Record 3 of Set 8 | airai\n",
      "Processing Record 4 of Set 8 | touros\n",
      "Processing Record 5 of Set 8 | puri\n",
      "Processing Record 6 of Set 8 | yirol\n",
      "City not found. Skipping...\n",
      "Processing Record 7 of Set 8 | vardo\n",
      "Processing Record 8 of Set 8 | alyangula\n",
      "Processing Record 9 of Set 8 | warqla\n",
      "City not found. Skipping...\n",
      "Processing Record 10 of Set 8 | moerai\n",
      "Processing Record 11 of Set 8 | morden\n",
      "Processing Record 12 of Set 8 | palu\n",
      "Processing Record 13 of Set 8 | qingan\n",
      "City not found. Skipping...\n",
      "Processing Record 14 of Set 8 | samusu\n",
      "City not found. Skipping...\n",
      "Processing Record 15 of Set 8 | sabang\n",
      "Processing Record 16 of Set 8 | kampene\n",
      "Processing Record 17 of Set 8 | may pen\n",
      "Processing Record 18 of Set 8 | salalah\n",
      "Processing Record 19 of Set 8 | glendive\n",
      "Processing Record 20 of Set 8 | kollumerland\n",
      "City not found. Skipping...\n",
      "Processing Record 21 of Set 8 | ozernovskiy\n",
      "Processing Record 22 of Set 8 | gondanglegi\n",
      "Processing Record 23 of Set 8 | saskylakh\n",
      "Processing Record 24 of Set 8 | wad madani\n",
      "Processing Record 25 of Set 8 | tambacounda\n",
      "Processing Record 26 of Set 8 | sobolevo\n",
      "Processing Record 27 of Set 8 | berlevag\n",
      "Processing Record 28 of Set 8 | katsuura\n",
      "Processing Record 29 of Set 8 | alofi\n",
      "Processing Record 30 of Set 8 | fulitun\n",
      "City not found. Skipping...\n",
      "Processing Record 31 of Set 8 | cidreira\n",
      "Processing Record 32 of Set 8 | vila\n",
      "Processing Record 33 of Set 8 | marawi\n",
      "Processing Record 34 of Set 8 | ixtapa\n",
      "Processing Record 35 of Set 8 | kutulik\n",
      "Processing Record 36 of Set 8 | amahai\n",
      "Processing Record 37 of Set 8 | honningsvag\n",
      "Processing Record 38 of Set 8 | vanimo\n",
      "Processing Record 39 of Set 8 | kralendijk\n",
      "Processing Record 40 of Set 8 | mafinga\n",
      "Processing Record 41 of Set 8 | dunmore town\n",
      "Processing Record 42 of Set 8 | srandakan\n",
      "Processing Record 43 of Set 8 | san policarpo\n",
      "Processing Record 44 of Set 8 | camacha\n",
      "Processing Record 45 of Set 8 | balkhash\n",
      "Processing Record 46 of Set 8 | aden\n",
      "Processing Record 47 of Set 8 | ilulissat\n",
      "Processing Record 48 of Set 8 | kisangani\n",
      "Processing Record 49 of Set 8 | behbahan\n",
      "Processing Record 50 of Set 8 | aloleng\n",
      "Processing Record 1 of Set 9 | doha\n",
      "Processing Record 2 of Set 9 | ketchikan\n",
      "Processing Record 3 of Set 9 | anadyr\n",
      "Processing Record 4 of Set 9 | tabou\n",
      "Processing Record 5 of Set 9 | krasnoselkup\n",
      "Processing Record 6 of Set 9 | muros\n",
      "Processing Record 7 of Set 9 | manado\n",
      "Processing Record 8 of Set 9 | sisimiut\n",
      "Processing Record 9 of Set 9 | okhotsk\n",
      "Processing Record 10 of Set 9 | los llanos de aridane\n",
      "Processing Record 11 of Set 9 | santo andre\n",
      "Processing Record 12 of Set 9 | la rioja\n",
      "Processing Record 13 of Set 9 | hasaki\n",
      "Processing Record 14 of Set 9 | wairoa\n",
      "Processing Record 15 of Set 9 | novobirilyussy\n",
      "Processing Record 16 of Set 9 | skibbereen\n",
      "Processing Record 17 of Set 9 | praia da vitoria\n",
      "Processing Record 18 of Set 9 | san quintin\n",
      "Processing Record 19 of Set 9 | barrow\n",
      "Processing Record 20 of Set 9 | janoshaza\n",
      "Processing Record 21 of Set 9 | port shepstone\n",
      "Processing Record 22 of Set 9 | wenatchee\n",
      "Processing Record 23 of Set 9 | dinsor\n",
      "City not found. Skipping...\n",
      "Processing Record 24 of Set 9 | kikwit\n",
      "Processing Record 25 of Set 9 | klaksvik\n",
      "Processing Record 26 of Set 9 | portland\n",
      "Processing Record 27 of Set 9 | ancud\n"
     ]
    },
    {
     "name": "stdout",
     "output_type": "stream",
     "text": [
      "Processing Record 28 of Set 9 | monroe\n",
      "Processing Record 29 of Set 9 | lasa\n",
      "Processing Record 30 of Set 9 | salina cruz\n",
      "Processing Record 31 of Set 9 | erzin\n",
      "Processing Record 32 of Set 9 | carballo\n",
      "Processing Record 33 of Set 9 | vila franca do campo\n",
      "Processing Record 34 of Set 9 | christchurch\n",
      "Processing Record 35 of Set 9 | pochutla\n",
      "Processing Record 36 of Set 9 | silyanah\n",
      "City not found. Skipping...\n",
      "Processing Record 37 of Set 9 | kastamonu\n",
      "Processing Record 38 of Set 9 | lagunas\n",
      "Processing Record 39 of Set 9 | buon me thuot\n",
      "City not found. Skipping...\n",
      "Processing Record 40 of Set 9 | evensk\n",
      "Processing Record 41 of Set 9 | pedasi\n",
      "Processing Record 42 of Set 9 | north bend\n",
      "Processing Record 43 of Set 9 | mattru\n",
      "Processing Record 44 of Set 9 | coruripe\n",
      "Processing Record 45 of Set 9 | beira\n",
      "Processing Record 46 of Set 9 | oxbow\n",
      "Processing Record 47 of Set 9 | salinas\n",
      "Processing Record 48 of Set 9 | casas grandes\n",
      "Processing Record 49 of Set 9 | sitka\n",
      "Processing Record 50 of Set 9 | inhambane\n",
      "Processing Record 1 of Set 10 | izumo\n",
      "Processing Record 2 of Set 10 | bathsheba\n",
      "Processing Record 3 of Set 10 | rapid city\n",
      "Processing Record 4 of Set 10 | buraydah\n",
      "Processing Record 5 of Set 10 | iquitos\n",
      "Processing Record 6 of Set 10 | kabala\n",
      "Processing Record 7 of Set 10 | smithers\n",
      "Processing Record 8 of Set 10 | tulun\n",
      "Processing Record 9 of Set 10 | khilok\n",
      "Processing Record 10 of Set 10 | caucasia\n",
      "Processing Record 11 of Set 10 | atikokan\n",
      "Processing Record 12 of Set 10 | bengkulu\n",
      "Processing Record 13 of Set 10 | korcula\n",
      "Processing Record 14 of Set 10 | kambove\n",
      "Processing Record 15 of Set 10 | udachnyy\n",
      "Processing Record 16 of Set 10 | mahibadhoo\n",
      "Processing Record 17 of Set 10 | traverse city\n",
      "Processing Record 18 of Set 10 | havoysund\n",
      "Processing Record 19 of Set 10 | yar\n",
      "Processing Record 20 of Set 10 | khakhea\n",
      "Processing Record 21 of Set 10 | tsentralnyy\n",
      "City not found. Skipping...\n",
      "Processing Record 22 of Set 10 | vila velha\n",
      "Processing Record 23 of Set 10 | kousseri\n",
      "Processing Record 24 of Set 10 | tilichiki\n",
      "Processing Record 25 of Set 10 | tefe\n",
      "Processing Record 26 of Set 10 | leo\n",
      "Processing Record 27 of Set 10 | werda\n",
      "Processing Record 28 of Set 10 | bunesti\n",
      "Processing Record 29 of Set 10 | maniitsoq\n",
      "Processing Record 30 of Set 10 | mme\n",
      "City not found. Skipping...\n",
      "Processing Record 31 of Set 10 | araguacu\n",
      "Processing Record 32 of Set 10 | ayia galini\n",
      "Processing Record 33 of Set 10 | kemin\n",
      "Processing Record 34 of Set 10 | fiumicino\n",
      "Processing Record 35 of Set 10 | ambodifototra\n",
      "City not found. Skipping...\n",
      "Processing Record 36 of Set 10 | marsh harbour\n",
      "Processing Record 37 of Set 10 | porto walter\n",
      "Processing Record 38 of Set 10 | rakiv lis\n",
      "Processing Record 39 of Set 10 | mandla\n",
      "Processing Record 40 of Set 10 | dwarka\n",
      "Processing Record 41 of Set 10 | adrar\n",
      "Processing Record 42 of Set 10 | luderitz\n",
      "Processing Record 43 of Set 10 | karpathos\n",
      "Processing Record 44 of Set 10 | taburi\n",
      "City not found. Skipping...\n",
      "Processing Record 45 of Set 10 | roebourne\n",
      "Processing Record 46 of Set 10 | dryden\n",
      "Processing Record 47 of Set 10 | villablino\n",
      "Processing Record 48 of Set 10 | jiwani\n",
      "Processing Record 49 of Set 10 | skalistyy\n",
      "City not found. Skipping...\n",
      "Processing Record 50 of Set 10 | xapuri\n",
      "Processing Record 1 of Set 11 | cintalapa\n",
      "Processing Record 2 of Set 11 | jibuti\n",
      "Processing Record 3 of Set 11 | ilheus\n",
      "Processing Record 4 of Set 11 | syracuse\n",
      "Processing Record 5 of Set 11 | eau claire\n",
      "Processing Record 6 of Set 11 | cockburn town\n",
      "Processing Record 7 of Set 11 | kitimat\n",
      "Processing Record 8 of Set 11 | limoeiro do ajuru\n",
      "Processing Record 9 of Set 11 | brigantine\n",
      "Processing Record 10 of Set 11 | iqaluit\n",
      "Processing Record 11 of Set 11 | eureka\n",
      "Processing Record 12 of Set 11 | leningradskiy\n",
      "Processing Record 13 of Set 11 | kholodnyy\n",
      "Processing Record 14 of Set 11 | sydney mines\n",
      "Processing Record 15 of Set 11 | victoria\n",
      "Processing Record 16 of Set 11 | astana\n",
      "Processing Record 17 of Set 11 | urumqi\n",
      "Processing Record 18 of Set 11 | guerrero negro\n",
      "Processing Record 19 of Set 11 | lufilufi\n",
      "Processing Record 20 of Set 11 | tura\n",
      "Processing Record 21 of Set 11 | azimur\n",
      "City not found. Skipping...\n",
      "Processing Record 22 of Set 11 | biltine\n",
      "Processing Record 23 of Set 11 | igarka\n",
      "Processing Record 24 of Set 11 | port-cartier\n",
      "Processing Record 25 of Set 11 | taltal\n",
      "Processing Record 26 of Set 11 | vilcun\n",
      "Processing Record 27 of Set 11 | katsiveli\n",
      "City not found. Skipping...\n",
      "Processing Record 28 of Set 11 | samfya\n",
      "Processing Record 29 of Set 11 | ukiah\n",
      "Processing Record 30 of Set 11 | lubango\n",
      "Processing Record 31 of Set 11 | otradnoye\n",
      "Processing Record 32 of Set 11 | kamina\n",
      "Processing Record 33 of Set 11 | fortuna\n",
      "Processing Record 34 of Set 11 | isangel\n",
      "Processing Record 35 of Set 11 | buta\n",
      "Processing Record 36 of Set 11 | prado\n",
      "Processing Record 37 of Set 11 | gaya\n",
      "Processing Record 38 of Set 11 | neyvo-shaytanskiy\n",
      "Processing Record 39 of Set 11 | talara\n",
      "Processing Record 40 of Set 11 | mandera\n",
      "Processing Record 41 of Set 11 | portree\n",
      "Processing Record 42 of Set 11 | chernyshevskiy\n",
      "Processing Record 43 of Set 11 | khash\n",
      "Processing Record 44 of Set 11 | kuche\n",
      "City not found. Skipping...\n",
      "Processing Record 45 of Set 11 | dubovyy umet\n",
      "Processing Record 46 of Set 11 | kargasok\n",
      "Processing Record 47 of Set 11 | anloga\n",
      "Processing Record 48 of Set 11 | mogadishu\n",
      "Processing Record 49 of Set 11 | mount isa\n",
      "Processing Record 50 of Set 11 | galveston\n",
      "Processing Record 1 of Set 12 | khammam\n",
      "Processing Record 2 of Set 12 | somerset east\n",
      "Processing Record 3 of Set 12 | tarudant\n",
      "City not found. Skipping...\n",
      "Processing Record 4 of Set 12 | ajdabiya\n",
      "Processing Record 5 of Set 12 | alanya\n",
      "Processing Record 6 of Set 12 | constitucion\n",
      "Processing Record 7 of Set 12 | mitu\n",
      "Processing Record 8 of Set 12 | gat\n",
      "Processing Record 9 of Set 12 | manturovo\n",
      "Processing Record 10 of Set 12 | bairiki\n",
      "Processing Record 11 of Set 12 | broken hill\n",
      "Processing Record 12 of Set 12 | ust-ishim\n",
      "Processing Record 13 of Set 12 | madaripur\n",
      "Processing Record 14 of Set 12 | san cristobal\n",
      "Processing Record 15 of Set 12 | novyy urengoy\n",
      "Processing Record 16 of Set 12 | san carlos de bariloche\n",
      "Processing Record 17 of Set 12 | knysna\n",
      "Processing Record 18 of Set 12 | elko\n",
      "Processing Record 19 of Set 12 | rocha\n",
      "Processing Record 20 of Set 12 | kalmunai\n",
      "Processing Record 21 of Set 12 | rincon de la victoria\n",
      "Processing Record 22 of Set 12 | kroya\n",
      "Processing Record 23 of Set 12 | esperance\n",
      "Processing Record 24 of Set 12 | shipitsyno\n",
      "Processing Record 25 of Set 12 | richards bay\n",
      "Processing Record 26 of Set 12 | tanete\n",
      "Processing Record 27 of Set 12 | mount gambier\n",
      "Processing Record 28 of Set 12 | calama\n",
      "Processing Record 29 of Set 12 | alekseyevsk\n",
      "Processing Record 30 of Set 12 | puerto del rosario\n",
      "Processing Record 31 of Set 12 | sinop\n",
      "Processing Record 32 of Set 12 | shakhtinsk\n",
      "Processing Record 33 of Set 12 | vallenar\n",
      "Processing Record 34 of Set 12 | rawson\n",
      "Processing Record 35 of Set 12 | port moresby\n",
      "Processing Record 36 of Set 12 | dankaur\n",
      "Processing Record 37 of Set 12 | maple creek\n",
      "Processing Record 38 of Set 12 | tumannyy\n",
      "City not found. Skipping...\n",
      "Processing Record 39 of Set 12 | port blair\n",
      "Processing Record 40 of Set 12 | portales\n",
      "Processing Record 41 of Set 12 | cap malheureux\n",
      "Processing Record 42 of Set 12 | balkanabat\n",
      "Processing Record 43 of Set 12 | maragogi\n",
      "Processing Record 44 of Set 12 | sangar\n",
      "Processing Record 45 of Set 12 | zhigansk\n",
      "Processing Record 46 of Set 12 | havre-saint-pierre\n",
      "Processing Record 47 of Set 12 | taoudenni\n",
      "Processing Record 48 of Set 12 | falealupo\n",
      "City not found. Skipping...\n",
      "Processing Record 49 of Set 12 | yulara\n",
      "Processing Record 50 of Set 12 | nagato\n",
      "Processing Record 1 of Set 13 | chaiyaphum\n",
      "Processing Record 2 of Set 13 | reconquista\n",
      "Processing Record 3 of Set 13 | paseh\n",
      "Processing Record 4 of Set 13 | yuxia\n",
      "Processing Record 5 of Set 13 | sanghar\n",
      "Processing Record 6 of Set 13 | puerto lumbreras\n",
      "Processing Record 7 of Set 13 | chulman\n",
      "Processing Record 8 of Set 13 | bur gabo\n",
      "City not found. Skipping...\n",
      "Processing Record 9 of Set 13 | matamoros\n",
      "Processing Record 10 of Set 13 | karratha\n",
      "Processing Record 11 of Set 13 | big spring\n",
      "Processing Record 12 of Set 13 | tungawan\n",
      "Processing Record 13 of Set 13 | sinkat\n",
      "City not found. Skipping...\n",
      "Processing Record 14 of Set 13 | nakusp\n"
     ]
    },
    {
     "name": "stdout",
     "output_type": "stream",
     "text": [
      "Processing Record 15 of Set 13 | dayong\n",
      "Processing Record 16 of Set 13 | vanavara\n",
      "Processing Record 17 of Set 13 | bandarbeyla\n",
      "Processing Record 18 of Set 13 | lagoa\n",
      "Processing Record 19 of Set 13 | ambon\n",
      "Processing Record 20 of Set 13 | harper\n",
      "Processing Record 21 of Set 13 | innisfail\n",
      "Processing Record 22 of Set 13 | formosa\n",
      "Processing Record 23 of Set 13 | pitimbu\n",
      "Processing Record 24 of Set 13 | kondinskoye\n",
      "Processing Record 25 of Set 13 | changli\n",
      "Processing Record 26 of Set 13 | makakilo city\n",
      "Processing Record 27 of Set 13 | ostrovnoy\n",
      "Processing Record 28 of Set 13 | havre\n",
      "Processing Record 29 of Set 13 | daura\n",
      "Processing Record 30 of Set 13 | zarubino\n",
      "Processing Record 31 of Set 13 | osmena\n",
      "Processing Record 32 of Set 13 | puro\n",
      "Processing Record 33 of Set 13 | eyl\n",
      "Processing Record 34 of Set 13 | temnikov\n",
      "Processing Record 35 of Set 13 | voh\n",
      "Processing Record 36 of Set 13 | borogontsy\n",
      "Processing Record 37 of Set 13 | murgab\n",
      "Processing Record 38 of Set 13 | hay river\n",
      "Processing Record 39 of Set 13 | limbang\n",
      "Processing Record 40 of Set 13 | aripuana\n",
      "Processing Record 41 of Set 13 | shimoda\n",
      "Processing Record 42 of Set 13 | boralday\n",
      "Processing Record 43 of Set 13 | dobsina\n",
      "Processing Record 44 of Set 13 | aklavik\n",
      "Processing Record 45 of Set 13 | atambua\n",
      "Processing Record 46 of Set 13 | djibo\n",
      "Processing Record 47 of Set 13 | thinadhoo\n",
      "Processing Record 48 of Set 13 | montevideo\n",
      "Processing Record 49 of Set 13 | dongsheng\n",
      "Processing Record 50 of Set 13 | butterworth\n",
      "Processing Record 1 of Set 14 | penzance\n",
      "Processing Record 2 of Set 14 | bambanglipuro\n",
      "Processing Record 3 of Set 14 | lavrentiya\n",
      "Processing Record 4 of Set 14 | mrirt\n",
      "City not found. Skipping...\n",
      "Processing Record 5 of Set 14 | tabiauea\n",
      "City not found. Skipping...\n",
      "-----------------------------\n",
      "Data Retrieval Complete      \n",
      "-----------------------------\n"
     ]
    }
   ],
   "source": [
    "# Loop through all the cities in the list (6.2.6).\n",
    "for i, city in enumerate(cities):\n",
    "\n",
    "    # Group cities in sets of 50 for logging purposes.\n",
    "    if (i % 50 == 0 and i >= 50):\n",
    "        set_count += 1\n",
    "        record_count = 1\n",
    "        time.sleep(60)\n",
    "\n",
    "    # Create endpoint URL with each city.\n",
    "    city_url = url + \"&q=\" + city.replace(\" \",\"+\")\n",
    "    \n",
    "    # Log the URL, record, and set numbers and the city.\n",
    "    print(f\"Processing Record {record_count} of Set {set_count} | {city}\")\n",
    "    # Add 1 to the record count.\n",
    "    record_count += 1\n",
    "\n",
    "    # Run an API request for each of the cities. (6.2.6)\n",
    "    try:\n",
    "        # Parse the JSON and retrieve data.\n",
    "        city_weather = requests.get(city_url).json()\n",
    "                \n",
    "        # Parse out the needed data.\n",
    "        city_country = city_weather[\"sys\"][\"country\"]\n",
    "        city_lat = city_weather[\"coord\"][\"lat\"]\n",
    "        city_lng = city_weather[\"coord\"][\"lon\"]\n",
    "        city_max_temp = city_weather[\"main\"][\"temp_max\"]\n",
    "        percent_humidity = city_weather[\"main\"][\"humidity\"]\n",
    "        percent_cloudiness = city_weather['clouds']['all']\n",
    "        wind_speed = city_weather[\"wind\"][\"speed\"]\n",
    "        current_description = city_weather['weather'][0]['description']\n",
    "\n",
    "\n",
    "        # Convert the date to ISO standard.\n",
    "        city_date = datetime.utcfromtimestamp(city_weather[\"dt\"]).strftime('%Y-%m-%d %H:%M:%S')\n",
    "\n",
    "        # Append the city information into city_data list.\n",
    "        city_data.append({\"City\": city.title(),\n",
    "                          \"Country\": city_country,\n",
    "                          \"Lat\": city_lat,\n",
    "                          \"Lng\": city_lng,\n",
    "                          \"Max Temp\": city_max_temp,\n",
    "                          \"Percent Humidity\": percent_humidity,\n",
    "                          \"Precent Cloudiness\": percent_cloudiness,\n",
    "                          \"Wind Speed\": wind_speed,\n",
    "                          \"Current Description\": current_description})\n",
    "\n",
    "# If an error is experienced, skip the city.\n",
    "    except: \n",
    "        print(\"City not found. Skipping...\")\n",
    "        pass\n",
    "\n",
    "# Indicate that Data Loading is complete.\n",
    "print(\"-----------------------------\")\n",
    "print(\"Data Retrieval Complete      \")\n",
    "print(\"-----------------------------\")"
   ]
  },
  {
   "cell_type": "code",
   "execution_count": 37,
   "id": "d857220a",
   "metadata": {},
   "outputs": [
    {
     "data": {
      "text/html": [
       "<div>\n",
       "<style scoped>\n",
       "    .dataframe tbody tr th:only-of-type {\n",
       "        vertical-align: middle;\n",
       "    }\n",
       "\n",
       "    .dataframe tbody tr th {\n",
       "        vertical-align: top;\n",
       "    }\n",
       "\n",
       "    .dataframe thead th {\n",
       "        text-align: right;\n",
       "    }\n",
       "</style>\n",
       "<table border=\"1\" class=\"dataframe\">\n",
       "  <thead>\n",
       "    <tr style=\"text-align: right;\">\n",
       "      <th></th>\n",
       "      <th>City</th>\n",
       "      <th>Country</th>\n",
       "      <th>Lat</th>\n",
       "      <th>Lng</th>\n",
       "      <th>Max Temp</th>\n",
       "      <th>Percent Humidity</th>\n",
       "      <th>Precent Cloudiness</th>\n",
       "      <th>Wind Speed</th>\n",
       "      <th>Current Description</th>\n",
       "    </tr>\n",
       "  </thead>\n",
       "  <tbody>\n",
       "    <tr>\n",
       "      <th>0</th>\n",
       "      <td>Baruun-Urt</td>\n",
       "      <td>MN</td>\n",
       "      <td>46.6806</td>\n",
       "      <td>113.2792</td>\n",
       "      <td>-3.87</td>\n",
       "      <td>96</td>\n",
       "      <td>29</td>\n",
       "      <td>2.46</td>\n",
       "      <td>scattered clouds</td>\n",
       "    </tr>\n",
       "    <tr>\n",
       "      <th>1</th>\n",
       "      <td>Norman Wells</td>\n",
       "      <td>CA</td>\n",
       "      <td>65.2820</td>\n",
       "      <td>-126.8329</td>\n",
       "      <td>-11.16</td>\n",
       "      <td>64</td>\n",
       "      <td>100</td>\n",
       "      <td>21.85</td>\n",
       "      <td>light snow</td>\n",
       "    </tr>\n",
       "    <tr>\n",
       "      <th>2</th>\n",
       "      <td>Torbay</td>\n",
       "      <td>CA</td>\n",
       "      <td>47.6666</td>\n",
       "      <td>-52.7314</td>\n",
       "      <td>41.58</td>\n",
       "      <td>90</td>\n",
       "      <td>75</td>\n",
       "      <td>23.02</td>\n",
       "      <td>light intensity drizzle</td>\n",
       "    </tr>\n",
       "    <tr>\n",
       "      <th>3</th>\n",
       "      <td>Azuaga</td>\n",
       "      <td>ES</td>\n",
       "      <td>38.2667</td>\n",
       "      <td>-5.6833</td>\n",
       "      <td>60.46</td>\n",
       "      <td>54</td>\n",
       "      <td>0</td>\n",
       "      <td>0.09</td>\n",
       "      <td>clear sky</td>\n",
       "    </tr>\n",
       "    <tr>\n",
       "      <th>4</th>\n",
       "      <td>Haines Junction</td>\n",
       "      <td>CA</td>\n",
       "      <td>60.7522</td>\n",
       "      <td>-137.5108</td>\n",
       "      <td>33.75</td>\n",
       "      <td>86</td>\n",
       "      <td>89</td>\n",
       "      <td>3.44</td>\n",
       "      <td>overcast clouds</td>\n",
       "    </tr>\n",
       "    <tr>\n",
       "      <th>5</th>\n",
       "      <td>Labuhan</td>\n",
       "      <td>ID</td>\n",
       "      <td>-6.8844</td>\n",
       "      <td>112.2051</td>\n",
       "      <td>76.71</td>\n",
       "      <td>89</td>\n",
       "      <td>100</td>\n",
       "      <td>9.84</td>\n",
       "      <td>overcast clouds</td>\n",
       "    </tr>\n",
       "    <tr>\n",
       "      <th>6</th>\n",
       "      <td>Mar Del Plata</td>\n",
       "      <td>AR</td>\n",
       "      <td>-38.0023</td>\n",
       "      <td>-57.5575</td>\n",
       "      <td>78.82</td>\n",
       "      <td>69</td>\n",
       "      <td>0</td>\n",
       "      <td>11.50</td>\n",
       "      <td>clear sky</td>\n",
       "    </tr>\n",
       "    <tr>\n",
       "      <th>7</th>\n",
       "      <td>Kapaa</td>\n",
       "      <td>US</td>\n",
       "      <td>22.0752</td>\n",
       "      <td>-159.3190</td>\n",
       "      <td>70.20</td>\n",
       "      <td>84</td>\n",
       "      <td>13</td>\n",
       "      <td>8.79</td>\n",
       "      <td>light rain</td>\n",
       "    </tr>\n",
       "    <tr>\n",
       "      <th>8</th>\n",
       "      <td>Carnarvon</td>\n",
       "      <td>AU</td>\n",
       "      <td>-24.8667</td>\n",
       "      <td>113.6333</td>\n",
       "      <td>77.07</td>\n",
       "      <td>73</td>\n",
       "      <td>0</td>\n",
       "      <td>16.11</td>\n",
       "      <td>clear sky</td>\n",
       "    </tr>\n",
       "    <tr>\n",
       "      <th>9</th>\n",
       "      <td>Ushuaia</td>\n",
       "      <td>AR</td>\n",
       "      <td>-54.8000</td>\n",
       "      <td>-68.3000</td>\n",
       "      <td>58.62</td>\n",
       "      <td>35</td>\n",
       "      <td>40</td>\n",
       "      <td>13.80</td>\n",
       "      <td>scattered clouds</td>\n",
       "    </tr>\n",
       "  </tbody>\n",
       "</table>\n",
       "</div>"
      ],
      "text/plain": [
       "              City Country      Lat       Lng  Max Temp  Percent Humidity  \\\n",
       "0       Baruun-Urt      MN  46.6806  113.2792     -3.87                96   \n",
       "1     Norman Wells      CA  65.2820 -126.8329    -11.16                64   \n",
       "2           Torbay      CA  47.6666  -52.7314     41.58                90   \n",
       "3           Azuaga      ES  38.2667   -5.6833     60.46                54   \n",
       "4  Haines Junction      CA  60.7522 -137.5108     33.75                86   \n",
       "5          Labuhan      ID  -6.8844  112.2051     76.71                89   \n",
       "6    Mar Del Plata      AR -38.0023  -57.5575     78.82                69   \n",
       "7            Kapaa      US  22.0752 -159.3190     70.20                84   \n",
       "8        Carnarvon      AU -24.8667  113.6333     77.07                73   \n",
       "9          Ushuaia      AR -54.8000  -68.3000     58.62                35   \n",
       "\n",
       "   Precent Cloudiness  Wind Speed      Current Description  \n",
       "0                  29        2.46         scattered clouds  \n",
       "1                 100       21.85               light snow  \n",
       "2                  75       23.02  light intensity drizzle  \n",
       "3                   0        0.09                clear sky  \n",
       "4                  89        3.44          overcast clouds  \n",
       "5                 100        9.84          overcast clouds  \n",
       "6                   0       11.50                clear sky  \n",
       "7                  13        8.79               light rain  \n",
       "8                   0       16.11                clear sky  \n",
       "9                  40       13.80         scattered clouds  "
      ]
     },
     "execution_count": 37,
     "metadata": {},
     "output_type": "execute_result"
    }
   ],
   "source": [
    "# Convert the array of dictionaries to a Pandas DataFrame.\n",
    "city_data_df = pd.DataFrame(city_data)\n",
    "city_data_df.head(10)"
   ]
  },
  {
   "cell_type": "code",
   "execution_count": 38,
   "id": "9d36782b",
   "metadata": {},
   "outputs": [],
   "source": [
    "# Create the output file (CSV).\n",
    "output_data_file = \"../weather_data/WeatherPy_Database.csv\"\n",
    "# Export the City_Data into a CSV.\n",
    "city_data_df.to_csv(output_data_file, index_label=\"City_ID\")"
   ]
  },
  {
   "cell_type": "code",
   "execution_count": null,
   "id": "8c437464",
   "metadata": {},
   "outputs": [],
   "source": []
  }
 ],
 "metadata": {
  "kernelspec": {
   "display_name": "PythonData",
   "language": "python",
   "name": "pythondata"
  },
  "language_info": {
   "codemirror_mode": {
    "name": "ipython",
    "version": 3
   },
   "file_extension": ".py",
   "mimetype": "text/x-python",
   "name": "python",
   "nbconvert_exporter": "python",
   "pygments_lexer": "ipython3",
   "version": "3.7.11"
  }
 },
 "nbformat": 4,
 "nbformat_minor": 5
}
