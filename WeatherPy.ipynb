{
 "cells": [
  {
   "cell_type": "code",
   "execution_count": 1,
   "id": "4082caf0",
   "metadata": {},
   "outputs": [],
   "source": [
    "# Import the dependencies.\n",
    "import pandas as pd\n",
    "import matplotlib.pyplot as plt\n",
    "import numpy as np\n",
    "\n",
    "# Use the citipy module to determine city based on latitude and longitude.\n",
    "from citipy import citipy\n"
   ]
  },
  {
   "cell_type": "code",
   "execution_count": 2,
   "id": "effe3e61",
   "metadata": {},
   "outputs": [
    {
     "data": {
      "text/plain": [
       "<zip at 0x22f3ecd1c88>"
      ]
     },
     "execution_count": 2,
     "metadata": {},
     "output_type": "execute_result"
    }
   ],
   "source": [
    "# Create a set of random latitude and longitude combinations.\n",
    "lats = np.random.uniform(low=-90.000, high=90.000, size=1500)\n",
    "lngs = np.random.uniform(low=-180.000, high=180.000, size=1500)\n",
    "lat_lngs = zip(lats, lngs)\n",
    "lat_lngs"
   ]
  },
  {
   "cell_type": "code",
   "execution_count": 3,
   "id": "78a2fc90",
   "metadata": {},
   "outputs": [],
   "source": [
    "# Add the latitudes and longitudes to a list.\n",
    "coordinates = list(lat_lngs)"
   ]
  },
  {
   "cell_type": "code",
   "execution_count": 4,
   "id": "39c03151",
   "metadata": {},
   "outputs": [
    {
     "name": "stdout",
     "output_type": "stream",
     "text": [
      "Requirement already satisfied: citipy in c:\\users\\m163075\\anaconda3\\envs\\pythondata\\lib\\site-packages (0.0.5)\n",
      "Requirement already satisfied: kdtree>=0.12 in c:\\users\\m163075\\anaconda3\\envs\\pythondata\\lib\\site-packages (from citipy) (0.16)\n",
      "Note: you may need to restart the kernel to use updated packages.\n"
     ]
    }
   ],
   "source": [
    "pip install citipy"
   ]
  },
  {
   "cell_type": "code",
   "execution_count": 5,
   "id": "34ed0403",
   "metadata": {},
   "outputs": [
    {
     "data": {
      "text/plain": [
       "611"
      ]
     },
     "execution_count": 5,
     "metadata": {},
     "output_type": "execute_result"
    }
   ],
   "source": [
    "# Create a list for holding the cities.\n",
    "cities = []\n",
    "# Identify the nearest city for each latitude and longitude combination.\n",
    "for coordinate in coordinates:\n",
    "    city = citipy.nearest_city(coordinate[0], coordinate[1]).city_name\n",
    "\n",
    "    # If the city is unique, then we will add it to the cities list.\n",
    "    if city not in cities:\n",
    "        cities.append(city)\n",
    "# Print the city count to confirm sufficient count.\n",
    "len(cities)"
   ]
  },
  {
   "cell_type": "code",
   "execution_count": 6,
   "id": "93cae913",
   "metadata": {
    "scrolled": true
   },
   "outputs": [
    {
     "name": "stdout",
     "output_type": "stream",
     "text": [
      "['bom jesus', 'karakendzha', 'esperance', 'hithadhoo', 'whyalla', 'taoudenni', 'abu dhabi', 'nikolskoye', 'constitucion', 'aksu', 'vanavara', 'douglas', 'vaini', 'belushya guba', 'khatanga', 'henties bay', 'barrow', 'atuona', 'yanji', 'mahebourg', 'busselton', 'puerto baquerizo moreno', 'taolanaro', 'tiksi', 'sur', 'new norfolk', 'umm lajj', 'cape town', 'rikitea', 'salalah', 'aquiraz', 'namibe', 'sarh', 'port alfred', 'albany', 'ninh binh', 'tuktoyaktuk', 'mataura', 'salisbury', 'kapaa', 'ketchikan', 'kahului', 'east london', 'ancud', 'bluff', 'lantana', 'sofiysk', 'yenagoa', 'tuatapere', 'tsihombe', 'pashiya', 'arlit', 'dikson', 'upernavik', 'shache', 'saskylakh', 'miranorte', 'buchanan', 'ayorou', 'kidal', 'broken hill', 'yulara', 'coquimbo', 'shrewsbury', 'bud', 'ushuaia', 'songjianghe', 'soyo', 'hobart', 'nizhneyansk', 'sant pere de ribes', 'port elizabeth', 'castro alves', 'ponta do sol', 'vanimo', 'camopi', 'lata', 'illoqqortoormiut', 'miraflores', 'coos bay', 'novikovo', 'port lincoln', 'sidney', 'raudeberg', 'lompoc', 'puerto ayora', 'chokurdakh', 'youkounkoun', 'hasaki', 'kaitangata', 'ribeira grande', 'grand river south east', 'victoria', 'saint-augustin', 'leirvik', 'bredasdorp', 'panguipulli', 'dingle', 'ondorhaan', 'nakhon sawan', 'ileza', 'sentyabrskiy', 'kasongo-lunda', 'namatanai', 'belmonte', 'arraial do cabo', 'codrington', 'torbay', 'mys shmidta', 'luzon', 'samusu', 'hilo', 'barentsburg', 'southampton', 'kamenskoye', 'klaksvik', 'mahina', 'porto novo', 'aykhal', 'hermanus', 'punta arenas', 'quatre cocos', 'aklavik', 'laguna', 'bahia blanca', 'leningradskiy', 'tura', 'isangel', 'basco', 'homer', 'mersing', 'bambous virieux', 'provideniya', 'vao', 'vaitape', 'attawapiskat', 'panguiranan', 'kanniyakumari', 'komsomolskiy', 'bethel', 'marquette', 'novobataysk', 'bengkulu', 'pojuca', 'cabedelo', 'montrose', 'bilibino', 'maniitsoq', 'sechura', 'saint-pierre', 'elk city', 'talnakh', 'saint-philippe', 'ust-karsk', 'solnechnyy', 'fortuna', 'qandahar', 'sakaiminato', 'zaranj', 'havoysund', 'shelburne', 'haines junction', 'ordzhonikidze', 'carnarvon', 'vaitupu', 'longyearbyen', 'cabo san lucas', 'severodvinsk', 'muros', 'qaanaaq', 'termoli', 'marion', 'ubinskoye', 'monchegorsk', 'conde', 'nuevo progreso', 'maunabo', 'kautokeino', 'moree', 'ponta delgada', 'jamestown', 'ostrovnoy', 'russell', 'mandalgovi', 'huainan', 'shimoda', 'mar del plata', 'ossora', 'husavik', 'ilulissat', 'cherskiy', 'castro', 'san quintin', 'monte escobedo', 'sacama', 'ust-uda', 'rocha', 'vardo', 'saint-joseph', 'pevek', 'makat', 'san cristobal', 'lasa', 'chuy', 'margate', 'iralaya', 'san angelo', 'benguela', 'port macquarie', 'lebu', 'sitka', 'vestmannaeyjar', 'nosy varika', 'chapais', 'rio gallegos', 'snyder', 'murashi', 'ayios matthaios', 'campbeltown', 'van', 'nara', 'oranjemund', 'umzimvubu', 'port-gentil', 'cidreira', 'yusva', 'pangnirtung', 'lesnoy', 'brae', 'luderitz', 'marsh harbour', 'kirensk', 'high level', 'lalganj', 'tungkang', 'thompson', 'sao filipe', 'stara synyava', 'avarua', 'anshun', 'acapulco', 'rungata', 'sept-iles', 'amderma', 'xiongzhou', 'kodiak', 'bathsheba', 'iqaluit', 'te anau', 'ahipara', 'grindavik', 'ust-nera', 'beringovskiy', 'hambantota', 'lorengau', 'porechye-rybnoye', 'zheleznogorsk-ilimskiy', 'ambon', 'severo-kurilsk', 'barao de melgaco', 'luanda', 'quirinopolis', 'yellowknife', 'lagoa', 'axim', 'airai', 'verkhovazhye', 'kaeo', 'promysla', 'saint pete beach', 'sorong', 'kruisfontein', 'esfarayen', 'wajima', 'pisco', 'norman wells', 'ratnagiri', 'grand gaube', 'nanortalik', 'kendari', 'sinnar', 'tuyen quang', 'lago da pedra', 'chicama', 'togur', 'san patricio', 'bahia honda', 'tumannyy', 'mabaruma', 'hinton', 'nicoya', 'hamilton', 'charters towers', 'platteville', 'pandan', 'znamenskoye', 'samarai', 'kiama', 'gorontalo', 'narsaq', 'hertford', 'saravan', 'fairbanks', 'shenzhen', 'kysyl-syr', 'palauig', 'gavle', 'lolua', 'kargat', 'sao miguel do tapuio', 'banamba', 'neiafu', 'bafia', 'menongue', 'olafsvik', 'khuzhir', 'stepnogorsk', 'itoman', 'windhoek', 'camacha', 'taltal', 'saint george', 'flinders', 'ukiah', 'dourbali', 'vilhena', 'korla', 'jomalig', 'visby', 'roma', 'hovd', 'sao joao da barra', 'nilanga', 'mrirt', 'viedma', 'manubah', 'ciudad bolivar', 'banjar', 'sinnamary', 'livingston', 'boguchany', 'mount gambier', 'darhan', 'kribi', 'belfast', 'cockburn town', 'the valley', 'wanaka', 'faanui', 'hays', 'broome', 'limon', 'piacabucu', 'mehamn', 'pitimbu', 'stoyba', 'kargasok', 'deputatskiy', 'havre', 'bekhteyevka', 'lagoa santa', 'saldanha', 'atasu', 'itarema', 'bialystok', 'sorvag', 'iberia', 'rudnichnyy', 'novyy urengoy', 'chichimila', 'rawson', 'dunedin', 'kavieng', 'balkhash', 'massaguet', 'ozinki', 'zachagansk', 'dargaville', 'karratha', 'santa maria', 'mahibadhoo', 'goundam', 'viligili', 'penzance', 'teya', 'gat', 'puerto escondido', 'redhakhol', 'los llanos de aridane', 'swan hill', 'chifeng', 'tamiahua', 'motril', 'aflu', 'revda', 'kerchevskiy', 'manokwari', 'tasiilaq', 'verdalsora', 'quartucciu', 'birin', 'champerico', 'butaritari', 'hohhot', 'hutchinson', 'anadyr', 'garelochhead', 'havre-saint-pierre', 'ginda', 'mizan teferi', 'katobu', 'cape canaveral', 'kapustin yar', 'wonthaggi', 'catamarca', 'georgetown', 'choszczno', 'suntar', 'meulaboh', 'hefei', 'maragogi', 'beyneu', 'worland', 'iquique', 'westport', 'naze', 'srednekolymsk', 'tarakan', 'kirakira', 'xiaoweizhai', 'arawa', 'vila velha', 'baykit', 'darnah', 'comodoro rivadavia', 'biryusinsk', 'cayenne', 'kununurra', 'joensuu', 'olinda', 'utiroa', 'galesong', 'nanakuli', 'lavrentiya', 'katsuura', 'bandarbeyla', 'nowy dwor gdanski', 'berlevag', 'doha', 'nazarovo', 'severnyy', 'te karaka', 'bargal', 'wysokie mazowieckie', 'galiwinku', 'yuzhno-yeniseyskiy', 'caravelas', 'port hedland', 'tranas', 'qaqortoq', 'vila franca do campo', 'magadan', 'dhule', 'aqtobe', 'omboue', 'payo', 'saleaula', 'louisbourg', 'kamenka', 'andenes', 'geraldton', 'guerrero negro', 'jardim', 'svetlyy', 'pitrufquen', 'fort nelson', 'marsabit', 'kasamwa', 'meyungs', 'najran', 'lethbridge', 'vestmanna', 'luganville', 'atambua', 'chiredzi', 'makakilo city', 'hirara', 'marcona', 'arnstadt', 'rockport', 'cumra', 'vizinga', 'rockland', 'kupang', 'wloszczowa', 'lahad datu', 'vostok', 'campoverde', 'clonakilty', 'limoges', 'teguldet', 'bara', 'portland', 'petropavlovsk-kamchatskiy', 'yar-sale', 'panguna', 'willowmore', 'zhigansk', 'natal', 'kondratovo', 'zambezi', 'san ignacio', 'huanren', 'el fuerte', 'goderich', 'vinukonda', 'batie', 'ambodifototra', 'east wenatchee bench', 'temaraia', 'zhumadian', 'consett', 'reconquista', 'muisne', 'alyangula', 'christchurch', 'dhidhdhoo', 'mahanoro', 'zyryanka', 'clyde river', 'mareeba', 'priekule', 'morondava', 'touros', 'sao felix do xingu', 'villa maria', 'lufilufi', 'roald', 'buckeye', 'republic', 'tungor', 'te horo', 'vieste', 'yatou', 'liku', 'erenhot', 'odweyne', 'san pedro', 'hay river', 'beaufort', 'nakodar', 'xichang', 'were ilu', 'eureka', 'banda aceh', 'el alto', 'shakawe', 'wertheim', 'ipixuna', 'dubovskoye', 'glendive', 'ipswich', 'port blair', 'knysna', 'paamiut', 'betare oya', 'manoel urbano', 'la maddalena', 'cururupu', 'ruteng', 'markova', 'lobito', 'tabiauea', 'anklam', 'atar', 'swan river', 'malartic', 'yinchuan', 'souillac', 'kyzyl-suu', 'geilo', 'ngukurr', 'beloha', 'asau', 'aragarcas', 'ixcatlan', 'hualmay', 'zhezkazgan', 'bisira', 'mackay', 'imeni poliny osipenko', 'phangnga', 'avondale', 'khorinsk', 'weinan', 'ozgon', 'mayo', 'kangaatsiaq', 'tiarei', 'faya', 'nouadhibou', 'fereydun kenar', 'mogadishu', 'bayana', 'angoche', 'hami', 'manggar', 'pekan', 'mana', 'nemuro', 'nandi hills']\n"
     ]
    }
   ],
   "source": [
    "print(cities)"
   ]
  },
  {
   "cell_type": "code",
   "execution_count": 7,
   "id": "91d67130",
   "metadata": {
    "scrolled": true
   },
   "outputs": [],
   "source": [
    "#import weather API\n",
    "from config import weather_api_key\n",
    "#import requests so that you can make calls to open weather service\n",
    "import requests"
   ]
  },
  {
   "cell_type": "code",
   "execution_count": 8,
   "id": "9f2ca6bd",
   "metadata": {},
   "outputs": [],
   "source": [
    "# Starting URL for Weather Map API Call.\n",
    "url = \"http://api.openweathermap.org/data/2.5/weather?units=Imperial&APPID=\" + weather_api_key"
   ]
  },
  {
   "cell_type": "code",
   "execution_count": 9,
   "id": "6296a0b3",
   "metadata": {},
   "outputs": [
    {
     "data": {
      "text/plain": [
       "'2.27.1'"
      ]
     },
     "execution_count": 9,
     "metadata": {},
     "output_type": "execute_result"
    }
   ],
   "source": [
    "#import requests from config import weather_api_key. \n",
    "#To request JSON data over the internet, we use the Requests Library in Python.\n",
    "requests.__version__"
   ]
  },
  {
   "cell_type": "code",
   "execution_count": 10,
   "id": "39ae133a",
   "metadata": {},
   "outputs": [
    {
     "name": "stdout",
     "output_type": "stream",
     "text": [
      "http://api.openweathermap.org/data/2.5/weather?units=Imperial&APPID=6c66bb8f5a2afa2447acb0843b61c5cd&q=Boston\n"
     ]
    }
   ],
   "source": [
    "# Create an endpoint URL for a city.\n",
    "city_url = url + \"&q=\" + \"Boston\"\n",
    "print(city_url)"
   ]
  },
  {
   "cell_type": "code",
   "execution_count": 11,
   "id": "c6c0684f",
   "metadata": {},
   "outputs": [
    {
     "data": {
      "text/plain": [
       "<Response [200]>"
      ]
     },
     "execution_count": 11,
     "metadata": {},
     "output_type": "execute_result"
    }
   ],
   "source": [
    "# Make a 'Get' request for the city weather.\n",
    "city_weather = requests.get(city_url)\n",
    "city_weather"
   ]
  },
  {
   "cell_type": "code",
   "execution_count": 12,
   "id": "d24036c5",
   "metadata": {},
   "outputs": [
    {
     "data": {
      "text/plain": [
       "<Response [404]>"
      ]
     },
     "execution_count": 12,
     "metadata": {},
     "output_type": "execute_result"
    }
   ],
   "source": [
    "# Create an endpoint URL for a city.\n",
    "city_url = url + \"&q=\" + \"Bston\"\n",
    "city_weather = requests.get(city_url)\n",
    "city_weather"
   ]
  },
  {
   "cell_type": "code",
   "execution_count": 13,
   "id": "d992ebff",
   "metadata": {},
   "outputs": [
    {
     "data": {
      "text/plain": [
       "<Response [200]>"
      ]
     },
     "execution_count": 13,
     "metadata": {},
     "output_type": "execute_result"
    }
   ],
   "source": [
    "# Create an endpoint URL for a city.\n",
    "city_url = url + \"&q=\" + \"Boston\"\n",
    "city_weather = requests.get(city_url)\n",
    "city_weather"
   ]
  },
  {
   "cell_type": "code",
   "execution_count": 14,
   "id": "91c7a3a5",
   "metadata": {},
   "outputs": [
    {
     "data": {
      "text/plain": [
       "'{\"coord\":{\"lon\":-71.0598,\"lat\":42.3584},\"weather\":[{\"id\":601,\"main\":\"Snow\",\"description\":\"snow\",\"icon\":\"13d\"}],\"base\":\"stations\",\"main\":{\"temp\":30.38,\"feels_like\":20.39,\"temp_min\":25.16,\"temp_max\":34.43,\"pressure\":1015,\"humidity\":95,\"sea_level\":1015,\"grnd_level\":1014},\"visibility\":540,\"wind\":{\"speed\":12.82,\"deg\":8,\"gust\":25.93},\"snow\":{\"1h\":2.04},\"clouds\":{\"all\":100},\"dt\":1643993906,\"sys\":{\"type\":2,\"id\":2011592,\"country\":\"US\",\"sunrise\":1643975680,\"sunset\":1644012098},\"timezone\":-18000,\"id\":4930956,\"name\":\"Boston\",\"cod\":200}'"
      ]
     },
     "execution_count": 14,
     "metadata": {},
     "output_type": "execute_result"
    }
   ],
   "source": [
    "# Get the text of the 'Get' request.\n",
    "city_weather.text"
   ]
  },
  {
   "cell_type": "code",
   "execution_count": 15,
   "id": "69c91aef",
   "metadata": {},
   "outputs": [
    {
     "data": {
      "text/plain": [
       "{'coord': {'lon': -71.0598, 'lat': 42.3584},\n",
       " 'weather': [{'id': 601,\n",
       "   'main': 'Snow',\n",
       "   'description': 'snow',\n",
       "   'icon': '13d'}],\n",
       " 'base': 'stations',\n",
       " 'main': {'temp': 30.38,\n",
       "  'feels_like': 20.39,\n",
       "  'temp_min': 25.16,\n",
       "  'temp_max': 34.43,\n",
       "  'pressure': 1015,\n",
       "  'humidity': 95,\n",
       "  'sea_level': 1015,\n",
       "  'grnd_level': 1014},\n",
       " 'visibility': 540,\n",
       " 'wind': {'speed': 12.82, 'deg': 8, 'gust': 25.93},\n",
       " 'snow': {'1h': 2.04},\n",
       " 'clouds': {'all': 100},\n",
       " 'dt': 1643993906,\n",
       " 'sys': {'type': 2,\n",
       "  'id': 2011592,\n",
       "  'country': 'US',\n",
       "  'sunrise': 1643975680,\n",
       "  'sunset': 1644012098},\n",
       " 'timezone': -18000,\n",
       " 'id': 4930956,\n",
       " 'name': 'Boston',\n",
       " 'cod': 200}"
      ]
     },
     "execution_count": 15,
     "metadata": {},
     "output_type": "execute_result"
    }
   ],
   "source": [
    "# Get the JSON text of the 'Get' request.\n",
    "city_weather.json()"
   ]
  },
  {
   "cell_type": "code",
   "execution_count": 16,
   "id": "dd1c1909",
   "metadata": {},
   "outputs": [
    {
     "name": "stdout",
     "output_type": "stream",
     "text": [
      "http://api.openweathermap.org/data/2.5/weather?units=Imperial&APPID=6c66bb8f5a2afa2447acb0843b61c5cd&q=Boston\n"
     ]
    }
   ],
   "source": [
    "print(city_url)"
   ]
  },
  {
   "cell_type": "code",
   "execution_count": 17,
   "id": "4018277d",
   "metadata": {},
   "outputs": [
    {
     "data": {
      "text/plain": [
       "{'coord': {'lon': -71.0598, 'lat': 42.3584},\n",
       " 'weather': [{'id': 601,\n",
       "   'main': 'Snow',\n",
       "   'description': 'snow',\n",
       "   'icon': '13d'}],\n",
       " 'base': 'stations',\n",
       " 'main': {'temp': 30.38,\n",
       "  'feels_like': 20.39,\n",
       "  'temp_min': 25.16,\n",
       "  'temp_max': 34.43,\n",
       "  'pressure': 1015,\n",
       "  'humidity': 95,\n",
       "  'sea_level': 1015,\n",
       "  'grnd_level': 1014},\n",
       " 'visibility': 540,\n",
       " 'wind': {'speed': 12.82, 'deg': 8, 'gust': 25.93},\n",
       " 'snow': {'1h': 2.04},\n",
       " 'clouds': {'all': 100},\n",
       " 'dt': 1643993906,\n",
       " 'sys': {'type': 2,\n",
       "  'id': 2011592,\n",
       "  'country': 'US',\n",
       "  'sunrise': 1643975680,\n",
       "  'sunset': 1644012098},\n",
       " 'timezone': -18000,\n",
       " 'id': 4930956,\n",
       " 'name': 'Boston',\n",
       " 'cod': 200}"
      ]
     },
     "execution_count": 17,
     "metadata": {},
     "output_type": "execute_result"
    }
   ],
   "source": [
    "# Create an endpoint URL for a city.\n",
    "city_url = url + \"&q=\" + \"Boston\"\n",
    "city_weather = requests.get(city_url)\n",
    "city_weather.json()"
   ]
  },
  {
   "cell_type": "code",
   "execution_count": 18,
   "id": "0ebe762f",
   "metadata": {},
   "outputs": [],
   "source": [
    "# Get the JSON data.\n",
    "boston_data = city_weather.json()"
   ]
  },
  {
   "cell_type": "code",
   "execution_count": 19,
   "id": "c6ff7f27",
   "metadata": {},
   "outputs": [
    {
     "data": {
      "text/plain": [
       "{'type': 2,\n",
       " 'id': 2011592,\n",
       " 'country': 'US',\n",
       " 'sunrise': 1643975680,\n",
       " 'sunset': 1644012098}"
      ]
     },
     "execution_count": 19,
     "metadata": {},
     "output_type": "execute_result"
    }
   ],
   "source": [
    "# The values for the sunrise and sunset keys are the time of day in seconds in a database timestamp format\n",
    "boston_data['sys']"
   ]
  },
  {
   "cell_type": "code",
   "execution_count": 20,
   "id": "f0ff7892",
   "metadata": {},
   "outputs": [
    {
     "data": {
      "text/plain": [
       "1643993906"
      ]
     },
     "execution_count": 20,
     "metadata": {},
     "output_type": "execute_result"
    }
   ],
   "source": [
    "# If we want to retrieve the date in the weather data, we would add the \"dt\" key to the boston_data variable\n",
    "boston_data[\"dt\"]"
   ]
  },
  {
   "cell_type": "code",
   "execution_count": 21,
   "id": "e04b1fdc",
   "metadata": {},
   "outputs": [
    {
     "data": {
      "text/plain": [
       "42.3584"
      ]
     },
     "execution_count": 21,
     "metadata": {},
     "output_type": "execute_result"
    }
   ],
   "source": [
    "# Retreive latitude value from the Boston JSON data:\n",
    "boston_data[\"coord\"][\"lat\"]"
   ]
  },
  {
   "cell_type": "code",
   "execution_count": 22,
   "id": "45d327a5",
   "metadata": {},
   "outputs": [
    {
     "data": {
      "text/plain": [
       "34.43"
      ]
     },
     "execution_count": 22,
     "metadata": {},
     "output_type": "execute_result"
    }
   ],
   "source": [
    "# Get the maximum temperature value from the Boston JSON data\n",
    "boston_data[\"main\"][\"temp_max\"]"
   ]
  },
  {
   "cell_type": "code",
   "execution_count": 23,
   "id": "c708796f",
   "metadata": {},
   "outputs": [
    {
     "name": "stdout",
     "output_type": "stream",
     "text": [
      "42.3584 -71.0598 34.43 95 100 12.82\n"
     ]
    }
   ],
   "source": [
    "lat = boston_data[\"coord\"][\"lat\"]\n",
    "lng = boston_data[\"coord\"][\"lon\"]\n",
    "max_temp = boston_data[\"main\"][\"temp_max\"]\n",
    "humidity = boston_data[\"main\"][\"humidity\"]\n",
    "clouds = boston_data[\"clouds\"][\"all\"]\n",
    "wind = boston_data[\"wind\"][\"speed\"]\n",
    "print(lat, lng, max_temp, humidity, clouds, wind)"
   ]
  },
  {
   "cell_type": "code",
   "execution_count": 24,
   "id": "6139710a",
   "metadata": {},
   "outputs": [
    {
     "data": {
      "text/plain": [
       "datetime.datetime(2022, 2, 4, 16, 58, 26)"
      ]
     },
     "execution_count": 24,
     "metadata": {},
     "output_type": "execute_result"
    }
   ],
   "source": [
    "# Import the datetime module from the datetime library.\n",
    "from datetime import datetime\n",
    "\n",
    "# Get the date from the JSON file.\n",
    "date = boston_data[\"dt\"]\n",
    "\n",
    "# Convert the UTC date to a date format with year, month, day, hours, minutes, and seconds.\n",
    "datetime.utcfromtimestamp(date)"
   ]
  },
  {
   "cell_type": "code",
   "execution_count": 25,
   "id": "e0b7a3fd",
   "metadata": {},
   "outputs": [
    {
     "data": {
      "text/plain": [
       "'2022-02-04 16:58:26'"
      ]
     },
     "execution_count": 25,
     "metadata": {},
     "output_type": "execute_result"
    }
   ],
   "source": [
    "# We can convert this datetime format to 2022-02-03 22:41:37 using the Python string format method strftime() \n",
    "# and adding how we want the string to look inside the parentheses.\n",
    "datetime.utcfromtimestamp(date).strftime('%Y-%m-%d %H:%M:%S')"
   ]
  },
  {
   "cell_type": "code",
   "execution_count": 33,
   "id": "bcbdb3c8",
   "metadata": {},
   "outputs": [],
   "source": [
    "city_data = []"
   ]
  },
  {
   "cell_type": "code",
   "execution_count": 34,
   "id": "f5ea8659",
   "metadata": {},
   "outputs": [],
   "source": [
    "# Import the time library and the datetime module from the datetime library \n",
    "import time\n",
    "from datetime import datetime"
   ]
  },
  {
   "cell_type": "code",
   "execution_count": 35,
   "id": "e7420245",
   "metadata": {},
   "outputs": [
    {
     "name": "stdout",
     "output_type": "stream",
     "text": [
      "Beginning Data Retrieval     \n",
      "-----------------------------\n"
     ]
    }
   ],
   "source": [
    "# Create an empty list to hold the weather data.\n",
    "city_data = []\n",
    "# Print the beginning of the logging.\n",
    "print(\"Beginning Data Retrieval     \")\n",
    "print(\"-----------------------------\")\n",
    "\n",
    "# Create counters.\n",
    "record_count = 1\n",
    "set_count = 1"
   ]
  },
  {
   "cell_type": "code",
   "execution_count": null,
   "id": "fe3102da",
   "metadata": {},
   "outputs": [],
   "source": [
    "# Loop through all the cities in our list (6.2.6).\n",
    "for i in range(len(cities)):\n",
    "\n",
    "    # Group cities in sets of 50 for logging purposes.\n",
    "    if (i % 50 == 0 and i >= 50):\n",
    "        set_count += 1\n",
    "        record_count = 1\n",
    "        time.sleep(60)\n",
    "\n",
    "    # Create endpoint URL with each city.\n",
    "    city_url = url + \"&q=\" + cities[i]"
   ]
  },
  {
   "cell_type": "code",
   "execution_count": 30,
   "id": "96aa7065",
   "metadata": {},
   "outputs": [
    {
     "name": "stdout",
     "output_type": "stream",
     "text": [
      "Processing Record 1 of Set 13 | bom jesus\n",
      "Processing Record 2 of Set 13 | karakendzha\n",
      "Processing Record 3 of Set 13 | esperance\n",
      "Processing Record 4 of Set 13 | hithadhoo\n",
      "Processing Record 5 of Set 13 | whyalla\n",
      "Processing Record 6 of Set 13 | taoudenni\n",
      "Processing Record 7 of Set 13 | abu dhabi\n",
      "Processing Record 8 of Set 13 | nikolskoye\n",
      "Processing Record 9 of Set 13 | constitucion\n",
      "Processing Record 10 of Set 13 | aksu\n",
      "Processing Record 11 of Set 13 | vanavara\n",
      "Processing Record 12 of Set 13 | douglas\n",
      "Processing Record 13 of Set 13 | vaini\n",
      "Processing Record 14 of Set 13 | belushya guba\n",
      "Processing Record 15 of Set 13 | khatanga\n",
      "Processing Record 16 of Set 13 | henties bay\n",
      "Processing Record 17 of Set 13 | barrow\n",
      "Processing Record 18 of Set 13 | atuona\n",
      "Processing Record 19 of Set 13 | yanji\n",
      "Processing Record 20 of Set 13 | mahebourg\n",
      "Processing Record 21 of Set 13 | busselton\n",
      "Processing Record 22 of Set 13 | puerto baquerizo moreno\n",
      "Processing Record 23 of Set 13 | taolanaro\n",
      "Processing Record 24 of Set 13 | tiksi\n",
      "Processing Record 25 of Set 13 | sur\n",
      "Processing Record 26 of Set 13 | new norfolk\n",
      "Processing Record 27 of Set 13 | umm lajj\n",
      "Processing Record 28 of Set 13 | cape town\n",
      "Processing Record 29 of Set 13 | rikitea\n",
      "Processing Record 30 of Set 13 | salalah\n",
      "Processing Record 31 of Set 13 | aquiraz\n",
      "Processing Record 32 of Set 13 | namibe\n",
      "Processing Record 33 of Set 13 | sarh\n",
      "Processing Record 34 of Set 13 | port alfred\n",
      "Processing Record 35 of Set 13 | albany\n",
      "Processing Record 36 of Set 13 | ninh binh\n",
      "Processing Record 37 of Set 13 | tuktoyaktuk\n",
      "Processing Record 38 of Set 13 | mataura\n",
      "Processing Record 39 of Set 13 | salisbury\n",
      "Processing Record 40 of Set 13 | kapaa\n",
      "Processing Record 41 of Set 13 | ketchikan\n",
      "Processing Record 42 of Set 13 | kahului\n",
      "Processing Record 43 of Set 13 | east london\n",
      "Processing Record 44 of Set 13 | ancud\n",
      "Processing Record 45 of Set 13 | bluff\n",
      "Processing Record 46 of Set 13 | lantana\n",
      "Processing Record 47 of Set 13 | sofiysk\n",
      "Processing Record 48 of Set 13 | yenagoa\n",
      "Processing Record 49 of Set 13 | tuatapere\n",
      "Processing Record 50 of Set 13 | tsihombe\n",
      "Processing Record 1 of Set 14 | pashiya\n",
      "Processing Record 2 of Set 14 | arlit\n",
      "Processing Record 3 of Set 14 | dikson\n",
      "Processing Record 4 of Set 14 | upernavik\n",
      "Processing Record 5 of Set 14 | shache\n",
      "Processing Record 6 of Set 14 | saskylakh\n",
      "Processing Record 7 of Set 14 | miranorte\n",
      "Processing Record 8 of Set 14 | buchanan\n",
      "Processing Record 9 of Set 14 | ayorou\n",
      "Processing Record 10 of Set 14 | kidal\n",
      "Processing Record 11 of Set 14 | broken hill\n",
      "Processing Record 12 of Set 14 | yulara\n",
      "Processing Record 13 of Set 14 | coquimbo\n",
      "Processing Record 14 of Set 14 | shrewsbury\n",
      "Processing Record 15 of Set 14 | bud\n",
      "Processing Record 16 of Set 14 | ushuaia\n",
      "Processing Record 17 of Set 14 | songjianghe\n",
      "Processing Record 18 of Set 14 | soyo\n",
      "Processing Record 19 of Set 14 | hobart\n",
      "Processing Record 20 of Set 14 | nizhneyansk\n",
      "Processing Record 21 of Set 14 | sant pere de ribes\n",
      "Processing Record 22 of Set 14 | port elizabeth\n",
      "Processing Record 23 of Set 14 | castro alves\n",
      "Processing Record 24 of Set 14 | ponta do sol\n",
      "Processing Record 25 of Set 14 | vanimo\n",
      "Processing Record 26 of Set 14 | camopi\n",
      "Processing Record 27 of Set 14 | lata\n",
      "Processing Record 28 of Set 14 | illoqqortoormiut\n",
      "Processing Record 29 of Set 14 | miraflores\n",
      "Processing Record 30 of Set 14 | coos bay\n",
      "Processing Record 31 of Set 14 | novikovo\n",
      "Processing Record 32 of Set 14 | port lincoln\n",
      "Processing Record 33 of Set 14 | sidney\n",
      "Processing Record 34 of Set 14 | raudeberg\n",
      "Processing Record 35 of Set 14 | lompoc\n",
      "Processing Record 36 of Set 14 | puerto ayora\n",
      "Processing Record 37 of Set 14 | chokurdakh\n",
      "Processing Record 38 of Set 14 | youkounkoun\n",
      "Processing Record 39 of Set 14 | hasaki\n",
      "Processing Record 40 of Set 14 | kaitangata\n",
      "Processing Record 41 of Set 14 | ribeira grande\n",
      "Processing Record 42 of Set 14 | grand river south east\n",
      "Processing Record 43 of Set 14 | victoria\n",
      "Processing Record 44 of Set 14 | saint-augustin\n",
      "Processing Record 45 of Set 14 | leirvik\n",
      "Processing Record 46 of Set 14 | bredasdorp\n",
      "Processing Record 47 of Set 14 | panguipulli\n",
      "Processing Record 48 of Set 14 | dingle\n",
      "Processing Record 49 of Set 14 | ondorhaan\n",
      "Processing Record 50 of Set 14 | nakhon sawan\n",
      "Processing Record 1 of Set 15 | ileza\n",
      "Processing Record 2 of Set 15 | sentyabrskiy\n",
      "Processing Record 3 of Set 15 | kasongo-lunda\n",
      "Processing Record 4 of Set 15 | namatanai\n",
      "Processing Record 5 of Set 15 | belmonte\n",
      "Processing Record 6 of Set 15 | arraial do cabo\n",
      "Processing Record 7 of Set 15 | codrington\n",
      "Processing Record 8 of Set 15 | torbay\n",
      "Processing Record 9 of Set 15 | mys shmidta\n",
      "Processing Record 10 of Set 15 | luzon\n",
      "Processing Record 11 of Set 15 | samusu\n",
      "Processing Record 12 of Set 15 | hilo\n",
      "Processing Record 13 of Set 15 | barentsburg\n",
      "Processing Record 14 of Set 15 | southampton\n",
      "Processing Record 15 of Set 15 | kamenskoye\n",
      "Processing Record 16 of Set 15 | klaksvik\n",
      "Processing Record 17 of Set 15 | mahina\n",
      "Processing Record 18 of Set 15 | porto novo\n",
      "Processing Record 19 of Set 15 | aykhal\n",
      "Processing Record 20 of Set 15 | hermanus\n",
      "Processing Record 21 of Set 15 | punta arenas\n",
      "Processing Record 22 of Set 15 | quatre cocos\n",
      "Processing Record 23 of Set 15 | aklavik\n",
      "Processing Record 24 of Set 15 | laguna\n",
      "Processing Record 25 of Set 15 | bahia blanca\n",
      "Processing Record 26 of Set 15 | leningradskiy\n",
      "Processing Record 27 of Set 15 | tura\n",
      "Processing Record 28 of Set 15 | isangel\n",
      "Processing Record 29 of Set 15 | basco\n",
      "Processing Record 30 of Set 15 | homer\n",
      "Processing Record 31 of Set 15 | mersing\n",
      "Processing Record 32 of Set 15 | bambous virieux\n",
      "Processing Record 33 of Set 15 | provideniya\n",
      "Processing Record 34 of Set 15 | vao\n",
      "Processing Record 35 of Set 15 | vaitape\n",
      "Processing Record 36 of Set 15 | attawapiskat\n",
      "Processing Record 37 of Set 15 | panguiranan\n",
      "Processing Record 38 of Set 15 | kanniyakumari\n",
      "Processing Record 39 of Set 15 | komsomolskiy\n",
      "Processing Record 40 of Set 15 | bethel\n",
      "Processing Record 41 of Set 15 | marquette\n",
      "Processing Record 42 of Set 15 | novobataysk\n",
      "Processing Record 43 of Set 15 | bengkulu\n",
      "Processing Record 44 of Set 15 | pojuca\n",
      "Processing Record 45 of Set 15 | cabedelo\n",
      "Processing Record 46 of Set 15 | montrose\n",
      "Processing Record 47 of Set 15 | bilibino\n",
      "Processing Record 48 of Set 15 | maniitsoq\n",
      "Processing Record 49 of Set 15 | sechura\n",
      "Processing Record 50 of Set 15 | saint-pierre\n",
      "Processing Record 1 of Set 16 | elk city\n",
      "Processing Record 2 of Set 16 | talnakh\n",
      "Processing Record 3 of Set 16 | saint-philippe\n",
      "Processing Record 4 of Set 16 | ust-karsk\n",
      "Processing Record 5 of Set 16 | solnechnyy\n",
      "Processing Record 6 of Set 16 | fortuna\n",
      "Processing Record 7 of Set 16 | qandahar\n",
      "Processing Record 8 of Set 16 | sakaiminato\n",
      "Processing Record 9 of Set 16 | zaranj\n",
      "Processing Record 10 of Set 16 | havoysund\n",
      "Processing Record 11 of Set 16 | shelburne\n",
      "Processing Record 12 of Set 16 | haines junction\n",
      "Processing Record 13 of Set 16 | ordzhonikidze\n",
      "Processing Record 14 of Set 16 | carnarvon\n",
      "Processing Record 15 of Set 16 | vaitupu\n",
      "Processing Record 16 of Set 16 | longyearbyen\n",
      "Processing Record 17 of Set 16 | cabo san lucas\n",
      "Processing Record 18 of Set 16 | severodvinsk\n",
      "Processing Record 19 of Set 16 | muros\n",
      "Processing Record 20 of Set 16 | qaanaaq\n",
      "Processing Record 21 of Set 16 | termoli\n",
      "Processing Record 22 of Set 16 | marion\n",
      "Processing Record 23 of Set 16 | ubinskoye\n",
      "Processing Record 24 of Set 16 | monchegorsk\n",
      "Processing Record 25 of Set 16 | conde\n",
      "Processing Record 26 of Set 16 | nuevo progreso\n",
      "Processing Record 27 of Set 16 | maunabo\n",
      "Processing Record 28 of Set 16 | kautokeino\n",
      "Processing Record 29 of Set 16 | moree\n",
      "Processing Record 30 of Set 16 | ponta delgada\n",
      "Processing Record 31 of Set 16 | jamestown\n",
      "Processing Record 32 of Set 16 | ostrovnoy\n",
      "Processing Record 33 of Set 16 | russell\n",
      "Processing Record 34 of Set 16 | mandalgovi\n",
      "Processing Record 35 of Set 16 | huainan\n",
      "Processing Record 36 of Set 16 | shimoda\n",
      "Processing Record 37 of Set 16 | mar del plata\n",
      "Processing Record 38 of Set 16 | ossora\n",
      "Processing Record 39 of Set 16 | husavik\n",
      "Processing Record 40 of Set 16 | ilulissat\n",
      "Processing Record 41 of Set 16 | cherskiy\n",
      "Processing Record 42 of Set 16 | castro\n",
      "Processing Record 43 of Set 16 | san quintin\n",
      "Processing Record 44 of Set 16 | monte escobedo\n",
      "Processing Record 45 of Set 16 | sacama\n",
      "Processing Record 46 of Set 16 | ust-uda\n",
      "Processing Record 47 of Set 16 | rocha\n",
      "Processing Record 48 of Set 16 | vardo\n",
      "Processing Record 49 of Set 16 | saint-joseph\n",
      "Processing Record 50 of Set 16 | pevek\n"
     ]
    },
    {
     "name": "stdout",
     "output_type": "stream",
     "text": [
      "Processing Record 1 of Set 17 | makat\n",
      "Processing Record 2 of Set 17 | san cristobal\n",
      "Processing Record 3 of Set 17 | lasa\n",
      "Processing Record 4 of Set 17 | chuy\n",
      "Processing Record 5 of Set 17 | margate\n",
      "Processing Record 6 of Set 17 | iralaya\n",
      "Processing Record 7 of Set 17 | san angelo\n",
      "Processing Record 8 of Set 17 | benguela\n",
      "Processing Record 9 of Set 17 | port macquarie\n",
      "Processing Record 10 of Set 17 | lebu\n",
      "Processing Record 11 of Set 17 | sitka\n",
      "Processing Record 12 of Set 17 | vestmannaeyjar\n",
      "Processing Record 13 of Set 17 | nosy varika\n",
      "Processing Record 14 of Set 17 | chapais\n",
      "Processing Record 15 of Set 17 | rio gallegos\n",
      "Processing Record 16 of Set 17 | snyder\n",
      "Processing Record 17 of Set 17 | murashi\n",
      "Processing Record 18 of Set 17 | ayios matthaios\n",
      "Processing Record 19 of Set 17 | campbeltown\n",
      "Processing Record 20 of Set 17 | van\n",
      "Processing Record 21 of Set 17 | nara\n",
      "Processing Record 22 of Set 17 | oranjemund\n",
      "Processing Record 23 of Set 17 | umzimvubu\n",
      "Processing Record 24 of Set 17 | port-gentil\n",
      "Processing Record 25 of Set 17 | cidreira\n",
      "Processing Record 26 of Set 17 | yusva\n",
      "Processing Record 27 of Set 17 | pangnirtung\n",
      "Processing Record 28 of Set 17 | lesnoy\n",
      "Processing Record 29 of Set 17 | brae\n",
      "Processing Record 30 of Set 17 | luderitz\n",
      "Processing Record 31 of Set 17 | marsh harbour\n",
      "Processing Record 32 of Set 17 | kirensk\n",
      "Processing Record 33 of Set 17 | high level\n",
      "Processing Record 34 of Set 17 | lalganj\n",
      "Processing Record 35 of Set 17 | tungkang\n",
      "Processing Record 36 of Set 17 | thompson\n",
      "Processing Record 37 of Set 17 | sao filipe\n",
      "Processing Record 38 of Set 17 | stara synyava\n",
      "Processing Record 39 of Set 17 | avarua\n",
      "Processing Record 40 of Set 17 | anshun\n",
      "Processing Record 41 of Set 17 | acapulco\n",
      "Processing Record 42 of Set 17 | rungata\n",
      "Processing Record 43 of Set 17 | sept-iles\n",
      "Processing Record 44 of Set 17 | amderma\n",
      "Processing Record 45 of Set 17 | xiongzhou\n",
      "Processing Record 46 of Set 17 | kodiak\n",
      "Processing Record 47 of Set 17 | bathsheba\n",
      "Processing Record 48 of Set 17 | iqaluit\n",
      "Processing Record 49 of Set 17 | te anau\n",
      "Processing Record 50 of Set 17 | ahipara\n",
      "Processing Record 1 of Set 18 | grindavik\n",
      "Processing Record 2 of Set 18 | ust-nera\n",
      "Processing Record 3 of Set 18 | beringovskiy\n",
      "Processing Record 4 of Set 18 | hambantota\n",
      "Processing Record 5 of Set 18 | lorengau\n",
      "Processing Record 6 of Set 18 | porechye-rybnoye\n",
      "Processing Record 7 of Set 18 | zheleznogorsk-ilimskiy\n",
      "Processing Record 8 of Set 18 | ambon\n",
      "Processing Record 9 of Set 18 | severo-kurilsk\n",
      "Processing Record 10 of Set 18 | barao de melgaco\n",
      "Processing Record 11 of Set 18 | luanda\n",
      "Processing Record 12 of Set 18 | quirinopolis\n",
      "Processing Record 13 of Set 18 | yellowknife\n",
      "Processing Record 14 of Set 18 | lagoa\n",
      "Processing Record 15 of Set 18 | axim\n",
      "Processing Record 16 of Set 18 | airai\n",
      "Processing Record 17 of Set 18 | verkhovazhye\n",
      "Processing Record 18 of Set 18 | kaeo\n",
      "Processing Record 19 of Set 18 | promysla\n",
      "Processing Record 20 of Set 18 | saint pete beach\n",
      "Processing Record 21 of Set 18 | sorong\n",
      "Processing Record 22 of Set 18 | kruisfontein\n",
      "Processing Record 23 of Set 18 | esfarayen\n",
      "Processing Record 24 of Set 18 | wajima\n",
      "Processing Record 25 of Set 18 | pisco\n",
      "Processing Record 26 of Set 18 | norman wells\n",
      "Processing Record 27 of Set 18 | ratnagiri\n",
      "Processing Record 28 of Set 18 | grand gaube\n",
      "Processing Record 29 of Set 18 | nanortalik\n",
      "Processing Record 30 of Set 18 | kendari\n",
      "Processing Record 31 of Set 18 | sinnar\n",
      "Processing Record 32 of Set 18 | tuyen quang\n",
      "Processing Record 33 of Set 18 | lago da pedra\n",
      "Processing Record 34 of Set 18 | chicama\n",
      "Processing Record 35 of Set 18 | togur\n",
      "Processing Record 36 of Set 18 | san patricio\n",
      "Processing Record 37 of Set 18 | bahia honda\n",
      "Processing Record 38 of Set 18 | tumannyy\n",
      "Processing Record 39 of Set 18 | mabaruma\n",
      "Processing Record 40 of Set 18 | hinton\n",
      "Processing Record 41 of Set 18 | nicoya\n",
      "Processing Record 42 of Set 18 | hamilton\n",
      "Processing Record 43 of Set 18 | charters towers\n",
      "Processing Record 44 of Set 18 | platteville\n",
      "Processing Record 45 of Set 18 | pandan\n",
      "Processing Record 46 of Set 18 | znamenskoye\n",
      "Processing Record 47 of Set 18 | samarai\n",
      "Processing Record 48 of Set 18 | kiama\n",
      "Processing Record 49 of Set 18 | gorontalo\n",
      "Processing Record 50 of Set 18 | narsaq\n",
      "Processing Record 1 of Set 19 | hertford\n",
      "Processing Record 2 of Set 19 | saravan\n",
      "Processing Record 3 of Set 19 | fairbanks\n",
      "Processing Record 4 of Set 19 | shenzhen\n",
      "Processing Record 5 of Set 19 | kysyl-syr\n",
      "Processing Record 6 of Set 19 | palauig\n",
      "Processing Record 7 of Set 19 | gavle\n",
      "Processing Record 8 of Set 19 | lolua\n",
      "Processing Record 9 of Set 19 | kargat\n",
      "Processing Record 10 of Set 19 | sao miguel do tapuio\n",
      "Processing Record 11 of Set 19 | banamba\n",
      "Processing Record 12 of Set 19 | neiafu\n",
      "Processing Record 13 of Set 19 | bafia\n",
      "Processing Record 14 of Set 19 | menongue\n",
      "Processing Record 15 of Set 19 | olafsvik\n",
      "Processing Record 16 of Set 19 | khuzhir\n",
      "Processing Record 17 of Set 19 | stepnogorsk\n",
      "Processing Record 18 of Set 19 | itoman\n",
      "Processing Record 19 of Set 19 | windhoek\n",
      "Processing Record 20 of Set 19 | camacha\n",
      "Processing Record 21 of Set 19 | taltal\n",
      "Processing Record 22 of Set 19 | saint george\n",
      "Processing Record 23 of Set 19 | flinders\n",
      "Processing Record 24 of Set 19 | ukiah\n",
      "Processing Record 25 of Set 19 | dourbali\n",
      "Processing Record 26 of Set 19 | vilhena\n",
      "Processing Record 27 of Set 19 | korla\n",
      "Processing Record 28 of Set 19 | jomalig\n",
      "Processing Record 29 of Set 19 | visby\n",
      "Processing Record 30 of Set 19 | roma\n",
      "Processing Record 31 of Set 19 | hovd\n",
      "Processing Record 32 of Set 19 | sao joao da barra\n",
      "Processing Record 33 of Set 19 | nilanga\n",
      "Processing Record 34 of Set 19 | mrirt\n",
      "Processing Record 35 of Set 19 | viedma\n",
      "Processing Record 36 of Set 19 | manubah\n",
      "Processing Record 37 of Set 19 | ciudad bolivar\n",
      "Processing Record 38 of Set 19 | banjar\n",
      "Processing Record 39 of Set 19 | sinnamary\n",
      "Processing Record 40 of Set 19 | livingston\n",
      "Processing Record 41 of Set 19 | boguchany\n",
      "Processing Record 42 of Set 19 | mount gambier\n",
      "Processing Record 43 of Set 19 | darhan\n",
      "Processing Record 44 of Set 19 | kribi\n",
      "Processing Record 45 of Set 19 | belfast\n",
      "Processing Record 46 of Set 19 | cockburn town\n",
      "Processing Record 47 of Set 19 | the valley\n",
      "Processing Record 48 of Set 19 | wanaka\n",
      "Processing Record 49 of Set 19 | faanui\n",
      "Processing Record 50 of Set 19 | hays\n",
      "Processing Record 1 of Set 20 | broome\n",
      "Processing Record 2 of Set 20 | limon\n",
      "Processing Record 3 of Set 20 | piacabucu\n",
      "Processing Record 4 of Set 20 | mehamn\n",
      "Processing Record 5 of Set 20 | pitimbu\n",
      "Processing Record 6 of Set 20 | stoyba\n",
      "Processing Record 7 of Set 20 | kargasok\n",
      "Processing Record 8 of Set 20 | deputatskiy\n",
      "Processing Record 9 of Set 20 | havre\n",
      "Processing Record 10 of Set 20 | bekhteyevka\n",
      "Processing Record 11 of Set 20 | lagoa santa\n",
      "Processing Record 12 of Set 20 | saldanha\n",
      "Processing Record 13 of Set 20 | atasu\n",
      "Processing Record 14 of Set 20 | itarema\n",
      "Processing Record 15 of Set 20 | bialystok\n",
      "Processing Record 16 of Set 20 | sorvag\n",
      "Processing Record 17 of Set 20 | iberia\n",
      "Processing Record 18 of Set 20 | rudnichnyy\n",
      "Processing Record 19 of Set 20 | novyy urengoy\n",
      "Processing Record 20 of Set 20 | chichimila\n",
      "Processing Record 21 of Set 20 | rawson\n",
      "Processing Record 22 of Set 20 | dunedin\n",
      "Processing Record 23 of Set 20 | kavieng\n",
      "Processing Record 24 of Set 20 | balkhash\n",
      "Processing Record 25 of Set 20 | massaguet\n",
      "Processing Record 26 of Set 20 | ozinki\n",
      "Processing Record 27 of Set 20 | zachagansk\n",
      "Processing Record 28 of Set 20 | dargaville\n",
      "Processing Record 29 of Set 20 | karratha\n",
      "Processing Record 30 of Set 20 | santa maria\n",
      "Processing Record 31 of Set 20 | mahibadhoo\n",
      "Processing Record 32 of Set 20 | goundam\n",
      "Processing Record 33 of Set 20 | viligili\n",
      "Processing Record 34 of Set 20 | penzance\n",
      "Processing Record 35 of Set 20 | teya\n",
      "Processing Record 36 of Set 20 | gat\n",
      "Processing Record 37 of Set 20 | puerto escondido\n",
      "Processing Record 38 of Set 20 | redhakhol\n",
      "Processing Record 39 of Set 20 | los llanos de aridane\n",
      "Processing Record 40 of Set 20 | swan hill\n",
      "Processing Record 41 of Set 20 | chifeng\n",
      "Processing Record 42 of Set 20 | tamiahua\n",
      "Processing Record 43 of Set 20 | motril\n",
      "Processing Record 44 of Set 20 | aflu\n",
      "Processing Record 45 of Set 20 | revda\n",
      "Processing Record 46 of Set 20 | kerchevskiy\n",
      "Processing Record 47 of Set 20 | manokwari\n",
      "Processing Record 48 of Set 20 | tasiilaq\n",
      "Processing Record 49 of Set 20 | verdalsora\n",
      "Processing Record 50 of Set 20 | quartucciu\n"
     ]
    },
    {
     "name": "stdout",
     "output_type": "stream",
     "text": [
      "Processing Record 1 of Set 21 | birin\n",
      "Processing Record 2 of Set 21 | champerico\n",
      "Processing Record 3 of Set 21 | butaritari\n",
      "Processing Record 4 of Set 21 | hohhot\n",
      "Processing Record 5 of Set 21 | hutchinson\n",
      "Processing Record 6 of Set 21 | anadyr\n",
      "Processing Record 7 of Set 21 | garelochhead\n",
      "Processing Record 8 of Set 21 | havre-saint-pierre\n",
      "Processing Record 9 of Set 21 | ginda\n",
      "Processing Record 10 of Set 21 | mizan teferi\n",
      "Processing Record 11 of Set 21 | katobu\n",
      "Processing Record 12 of Set 21 | cape canaveral\n",
      "Processing Record 13 of Set 21 | kapustin yar\n",
      "Processing Record 14 of Set 21 | wonthaggi\n",
      "Processing Record 15 of Set 21 | catamarca\n",
      "Processing Record 16 of Set 21 | georgetown\n",
      "Processing Record 17 of Set 21 | choszczno\n",
      "Processing Record 18 of Set 21 | suntar\n",
      "Processing Record 19 of Set 21 | meulaboh\n",
      "Processing Record 20 of Set 21 | hefei\n",
      "Processing Record 21 of Set 21 | maragogi\n",
      "Processing Record 22 of Set 21 | beyneu\n",
      "Processing Record 23 of Set 21 | worland\n",
      "Processing Record 24 of Set 21 | iquique\n",
      "Processing Record 25 of Set 21 | westport\n",
      "Processing Record 26 of Set 21 | naze\n",
      "Processing Record 27 of Set 21 | srednekolymsk\n",
      "Processing Record 28 of Set 21 | tarakan\n",
      "Processing Record 29 of Set 21 | kirakira\n",
      "Processing Record 30 of Set 21 | xiaoweizhai\n",
      "Processing Record 31 of Set 21 | arawa\n",
      "Processing Record 32 of Set 21 | vila velha\n",
      "Processing Record 33 of Set 21 | baykit\n",
      "Processing Record 34 of Set 21 | darnah\n",
      "Processing Record 35 of Set 21 | comodoro rivadavia\n",
      "Processing Record 36 of Set 21 | biryusinsk\n",
      "Processing Record 37 of Set 21 | cayenne\n",
      "Processing Record 38 of Set 21 | kununurra\n",
      "Processing Record 39 of Set 21 | joensuu\n",
      "Processing Record 40 of Set 21 | olinda\n",
      "Processing Record 41 of Set 21 | utiroa\n",
      "Processing Record 42 of Set 21 | galesong\n",
      "Processing Record 43 of Set 21 | nanakuli\n",
      "Processing Record 44 of Set 21 | lavrentiya\n",
      "Processing Record 45 of Set 21 | katsuura\n",
      "Processing Record 46 of Set 21 | bandarbeyla\n",
      "Processing Record 47 of Set 21 | nowy dwor gdanski\n",
      "Processing Record 48 of Set 21 | berlevag\n",
      "Processing Record 49 of Set 21 | doha\n",
      "Processing Record 50 of Set 21 | nazarovo\n",
      "Processing Record 1 of Set 22 | severnyy\n",
      "Processing Record 2 of Set 22 | te karaka\n",
      "Processing Record 3 of Set 22 | bargal\n",
      "Processing Record 4 of Set 22 | wysokie mazowieckie\n",
      "Processing Record 5 of Set 22 | galiwinku\n",
      "Processing Record 6 of Set 22 | yuzhno-yeniseyskiy\n",
      "Processing Record 7 of Set 22 | caravelas\n",
      "Processing Record 8 of Set 22 | port hedland\n",
      "Processing Record 9 of Set 22 | tranas\n",
      "Processing Record 10 of Set 22 | qaqortoq\n",
      "Processing Record 11 of Set 22 | vila franca do campo\n",
      "Processing Record 12 of Set 22 | magadan\n",
      "Processing Record 13 of Set 22 | dhule\n",
      "Processing Record 14 of Set 22 | aqtobe\n",
      "Processing Record 15 of Set 22 | omboue\n",
      "Processing Record 16 of Set 22 | payo\n",
      "Processing Record 17 of Set 22 | saleaula\n",
      "Processing Record 18 of Set 22 | louisbourg\n",
      "Processing Record 19 of Set 22 | kamenka\n",
      "Processing Record 20 of Set 22 | andenes\n",
      "Processing Record 21 of Set 22 | geraldton\n",
      "Processing Record 22 of Set 22 | guerrero negro\n",
      "Processing Record 23 of Set 22 | jardim\n",
      "Processing Record 24 of Set 22 | svetlyy\n",
      "Processing Record 25 of Set 22 | pitrufquen\n",
      "Processing Record 26 of Set 22 | fort nelson\n",
      "Processing Record 27 of Set 22 | marsabit\n",
      "Processing Record 28 of Set 22 | kasamwa\n",
      "Processing Record 29 of Set 22 | meyungs\n",
      "Processing Record 30 of Set 22 | najran\n",
      "Processing Record 31 of Set 22 | lethbridge\n",
      "Processing Record 32 of Set 22 | vestmanna\n",
      "Processing Record 33 of Set 22 | luganville\n",
      "Processing Record 34 of Set 22 | atambua\n",
      "Processing Record 35 of Set 22 | chiredzi\n",
      "Processing Record 36 of Set 22 | makakilo city\n",
      "Processing Record 37 of Set 22 | hirara\n",
      "Processing Record 38 of Set 22 | marcona\n",
      "Processing Record 39 of Set 22 | arnstadt\n",
      "Processing Record 40 of Set 22 | rockport\n",
      "Processing Record 41 of Set 22 | cumra\n",
      "Processing Record 42 of Set 22 | vizinga\n",
      "Processing Record 43 of Set 22 | rockland\n",
      "Processing Record 44 of Set 22 | kupang\n",
      "Processing Record 45 of Set 22 | wloszczowa\n",
      "Processing Record 46 of Set 22 | lahad datu\n",
      "Processing Record 47 of Set 22 | vostok\n",
      "Processing Record 48 of Set 22 | campoverde\n",
      "Processing Record 49 of Set 22 | clonakilty\n",
      "Processing Record 50 of Set 22 | limoges\n",
      "Processing Record 1 of Set 23 | teguldet\n",
      "Processing Record 2 of Set 23 | bara\n",
      "Processing Record 3 of Set 23 | portland\n",
      "Processing Record 4 of Set 23 | petropavlovsk-kamchatskiy\n",
      "Processing Record 5 of Set 23 | yar-sale\n",
      "Processing Record 6 of Set 23 | panguna\n",
      "Processing Record 7 of Set 23 | willowmore\n",
      "Processing Record 8 of Set 23 | zhigansk\n",
      "Processing Record 9 of Set 23 | natal\n",
      "Processing Record 10 of Set 23 | kondratovo\n",
      "Processing Record 11 of Set 23 | zambezi\n",
      "Processing Record 12 of Set 23 | san ignacio\n",
      "Processing Record 13 of Set 23 | huanren\n",
      "Processing Record 14 of Set 23 | el fuerte\n",
      "Processing Record 15 of Set 23 | goderich\n",
      "Processing Record 16 of Set 23 | vinukonda\n",
      "Processing Record 17 of Set 23 | batie\n",
      "Processing Record 18 of Set 23 | ambodifototra\n",
      "Processing Record 19 of Set 23 | east wenatchee bench\n",
      "Processing Record 20 of Set 23 | temaraia\n",
      "Processing Record 21 of Set 23 | zhumadian\n",
      "Processing Record 22 of Set 23 | consett\n",
      "Processing Record 23 of Set 23 | reconquista\n",
      "Processing Record 24 of Set 23 | muisne\n",
      "Processing Record 25 of Set 23 | alyangula\n",
      "Processing Record 26 of Set 23 | christchurch\n",
      "Processing Record 27 of Set 23 | dhidhdhoo\n",
      "Processing Record 28 of Set 23 | mahanoro\n",
      "Processing Record 29 of Set 23 | zyryanka\n",
      "Processing Record 30 of Set 23 | clyde river\n",
      "Processing Record 31 of Set 23 | mareeba\n",
      "Processing Record 32 of Set 23 | priekule\n",
      "Processing Record 33 of Set 23 | morondava\n",
      "Processing Record 34 of Set 23 | touros\n",
      "Processing Record 35 of Set 23 | sao felix do xingu\n",
      "Processing Record 36 of Set 23 | villa maria\n",
      "Processing Record 37 of Set 23 | lufilufi\n",
      "Processing Record 38 of Set 23 | roald\n",
      "Processing Record 39 of Set 23 | buckeye\n",
      "Processing Record 40 of Set 23 | republic\n",
      "Processing Record 41 of Set 23 | tungor\n",
      "Processing Record 42 of Set 23 | te horo\n",
      "Processing Record 43 of Set 23 | vieste\n",
      "Processing Record 44 of Set 23 | yatou\n",
      "Processing Record 45 of Set 23 | liku\n",
      "Processing Record 46 of Set 23 | erenhot\n",
      "Processing Record 47 of Set 23 | odweyne\n",
      "Processing Record 48 of Set 23 | san pedro\n",
      "Processing Record 49 of Set 23 | hay river\n",
      "Processing Record 50 of Set 23 | beaufort\n",
      "Processing Record 1 of Set 24 | nakodar\n",
      "Processing Record 2 of Set 24 | xichang\n",
      "Processing Record 3 of Set 24 | were ilu\n",
      "Processing Record 4 of Set 24 | eureka\n",
      "Processing Record 5 of Set 24 | banda aceh\n",
      "Processing Record 6 of Set 24 | el alto\n",
      "Processing Record 7 of Set 24 | shakawe\n",
      "Processing Record 8 of Set 24 | wertheim\n",
      "Processing Record 9 of Set 24 | ipixuna\n",
      "Processing Record 10 of Set 24 | dubovskoye\n",
      "Processing Record 11 of Set 24 | glendive\n",
      "Processing Record 12 of Set 24 | ipswich\n",
      "Processing Record 13 of Set 24 | port blair\n",
      "Processing Record 14 of Set 24 | knysna\n",
      "Processing Record 15 of Set 24 | paamiut\n",
      "Processing Record 16 of Set 24 | betare oya\n",
      "Processing Record 17 of Set 24 | manoel urbano\n",
      "Processing Record 18 of Set 24 | la maddalena\n",
      "Processing Record 19 of Set 24 | cururupu\n",
      "Processing Record 20 of Set 24 | ruteng\n",
      "Processing Record 21 of Set 24 | markova\n",
      "Processing Record 22 of Set 24 | lobito\n",
      "Processing Record 23 of Set 24 | tabiauea\n",
      "Processing Record 24 of Set 24 | anklam\n",
      "Processing Record 25 of Set 24 | atar\n",
      "Processing Record 26 of Set 24 | swan river\n",
      "Processing Record 27 of Set 24 | malartic\n",
      "Processing Record 28 of Set 24 | yinchuan\n",
      "Processing Record 29 of Set 24 | souillac\n",
      "Processing Record 30 of Set 24 | kyzyl-suu\n",
      "Processing Record 31 of Set 24 | geilo\n",
      "Processing Record 32 of Set 24 | ngukurr\n",
      "Processing Record 33 of Set 24 | beloha\n",
      "Processing Record 34 of Set 24 | asau\n",
      "Processing Record 35 of Set 24 | aragarcas\n",
      "Processing Record 36 of Set 24 | ixcatlan\n",
      "Processing Record 37 of Set 24 | hualmay\n",
      "Processing Record 38 of Set 24 | zhezkazgan\n",
      "Processing Record 39 of Set 24 | bisira\n",
      "Processing Record 40 of Set 24 | mackay\n",
      "Processing Record 41 of Set 24 | imeni poliny osipenko\n",
      "Processing Record 42 of Set 24 | phangnga\n",
      "Processing Record 43 of Set 24 | avondale\n",
      "Processing Record 44 of Set 24 | khorinsk\n",
      "Processing Record 45 of Set 24 | weinan\n",
      "Processing Record 46 of Set 24 | ozgon\n",
      "Processing Record 47 of Set 24 | mayo\n",
      "Processing Record 48 of Set 24 | kangaatsiaq\n",
      "Processing Record 49 of Set 24 | tiarei\n",
      "Processing Record 50 of Set 24 | faya\n"
     ]
    },
    {
     "name": "stdout",
     "output_type": "stream",
     "text": [
      "Processing Record 1 of Set 25 | nouadhibou\n",
      "Processing Record 2 of Set 25 | fereydun kenar\n",
      "Processing Record 3 of Set 25 | mogadishu\n",
      "Processing Record 4 of Set 25 | bayana\n",
      "Processing Record 5 of Set 25 | angoche\n",
      "Processing Record 6 of Set 25 | hami\n",
      "Processing Record 7 of Set 25 | manggar\n",
      "Processing Record 8 of Set 25 | pekan\n",
      "Processing Record 9 of Set 25 | mana\n",
      "Processing Record 10 of Set 25 | nemuro\n",
      "Processing Record 11 of Set 25 | nandi hills\n"
     ]
    }
   ],
   "source": [
    "# Loop through all the cities in the list (6.2.6).\n",
    "for i, city in enumerate(cities):\n",
    "\n",
    "    # Group cities in sets of 50 for logging purposes.\n",
    "    if (i % 50 == 0 and i >= 50):\n",
    "        set_count += 1\n",
    "        record_count = 1\n",
    "        time.sleep(60)\n",
    "\n",
    "    # Create endpoint URL with each city.\n",
    "    city_url = url + \"&q=\" + city.replace(\" \",\"+\")\n",
    "\n",
    "    # Log the URL, record, and set numbers and the city.\n",
    "    print(f\"Processing Record {record_count} of Set {set_count} | {city}\")\n",
    "    # Add 1 to the record count.\n",
    "    record_count += 1"
   ]
  },
  {
   "cell_type": "code",
   "execution_count": null,
   "id": "57f1d66e",
   "metadata": {},
   "outputs": [],
   "source": [
    "# Run an API request for each of the cities. (6.2.6)\n",
    "   try:\n",
    "        # Parse the JSON and retrieve data.\n",
    "        city_weather = requests.get(city_url).json()\n",
    "        \n",
    "        # Parse out the needed data.\n",
    "        city_lat = city_weather[\"coord\"][\"lat\"]\n",
    "        city_lng = city_weather[\"coord\"][\"lon\"]\n",
    "        city_max_temp = city_weather[\"main\"][\"temp_max\"]\n",
    "        city_humidity = city_weather[\"main\"][\"humidity\"]\n",
    "        city_clouds = city_weather[\"clouds\"][\"all\"]\n",
    "        city_wind = city_weather[\"wind\"][\"speed\"]\n",
    "        city_country = city_weather[\"sys\"][\"country\"]\n",
    "        \n",
    "        # Convert the date to ISO standard.\n",
    "        city_date = datetime.utcfromtimestamp(city_weather[\"dt\"]).strftime('%Y-%m-%d %H:%M:%S')\n",
    "        \n",
    "        # Append the city information into city_data list.\n",
    "        city_data.append({\"City\": city.title(),\n",
    "                          \"Lat\": city_lat,\n",
    "                          \"Lng\": city_lng,\n",
    "                          \"Max Temp\": city_max_temp,\n",
    "                          \"Humidity\": city_humidity,\n",
    "                          \"Cloudiness\": city_clouds,\n",
    "                          \"Wind Speed\": city_wind,\n",
    "                          \"Country\": city_country,\n",
    "                          \"Date\": city_date})\n",
    "\n",
    "# If an error is experienced, skip the city.\n",
    "    except:\n",
    "        print(\"City not found. Skipping...\")\n",
    "        pass\n",
    "\n",
    "# Indicate that Data Loading is complete.\n",
    "print(\"-----------------------------\")\n",
    "print(\"Data Retrieval Complete      \")\n",
    "print(\"-----------------------------\")"
   ]
  },
  {
   "cell_type": "code",
   "execution_count": null,
   "id": "d857220a",
   "metadata": {},
   "outputs": [],
   "source": [
    "# Convert the array of dictionaries to a Pandas DataFrame.\n",
    "city_data_df = pd.DataFrame(city_data)\n",
    "city_data_df.head(10)"
   ]
  },
  {
   "cell_type": "code",
   "execution_count": null,
   "id": "9d36782b",
   "metadata": {},
   "outputs": [],
   "source": [
    "# Create the output file (CSV).\n",
    "output_data_file = \"weather_data/cities.csv\"\n",
    "# Export the City_Data into a CSV.\n",
    "city_data_df.to_csv(output_data_file, index_label=\"City_ID\")"
   ]
  },
  {
   "cell_type": "code",
   "execution_count": null,
   "id": "5913601c",
   "metadata": {},
   "outputs": [],
   "source": [
    "# Extract relevant fields from the DataFrame for plotting.\n",
    "lats = city_data_df[\"Lat\"]\n",
    "max_temps = city_data_df[\"Max Temp\"]\n",
    "humidity = city_data_df[\"Humidity\"]\n",
    "cloudiness = city_data_df[\"Cloudiness\"]\n",
    "wind_speed = city_data_df[\"Wind Speed\"]"
   ]
  },
  {
   "cell_type": "code",
   "execution_count": null,
   "id": "4c050d53",
   "metadata": {},
   "outputs": [],
   "source": [
    "# Import the time module.\n",
    "import time\n",
    "\n",
    "# Get today's date in seconds.\n",
    "today = time.time(strftime(\"%x\"))\n",
    "today"
   ]
  },
  {
   "cell_type": "code",
   "execution_count": null,
   "id": "d7b2f708",
   "metadata": {},
   "outputs": [],
   "source": [
    "# Import time module\n",
    "import time\n",
    "\n",
    "# Build the scatter plot for latitude vs. max temperature.\n",
    "plt.scatter(lats,\n",
    "            max_temps,\n",
    "            edgecolor=\"black\", linewidths=1, marker=\"o\",\n",
    "            alpha=0.8, label=\"Cities\")\n",
    "\n",
    "# Incorporate the other graph properties.\n",
    "plt.title(f\"City Latitude vs. Max Temperature \"+ time.strftime(\"%x\"))\n",
    "plt.ylabel(\"Max Temperature (F)\")\n",
    "plt.xlabel(\"Latitude\")\n",
    "plt.grid(True)\n",
    "\n",
    "# Save the figure.\n",
    "plt.savefig(\"weather_data/Fig1.png\")\n",
    "\n",
    "# Show plot.\n",
    "plt.show()"
   ]
  },
  {
   "cell_type": "code",
   "execution_count": 32,
   "id": "a38c1be4",
   "metadata": {},
   "outputs": [
    {
     "ename": "ValueError",
     "evalue": "x and y must be the same size",
     "output_type": "error",
     "traceback": [
      "\u001b[1;31m---------------------------------------------------------------------------\u001b[0m",
      "\u001b[1;31mValueError\u001b[0m                                Traceback (most recent call last)",
      "\u001b[1;32m~\\AppData\\Local\\Temp/ipykernel_40504/2985307029.py\u001b[0m in \u001b[0;36m<module>\u001b[1;34m\u001b[0m\n\u001b[0;32m      3\u001b[0m             \u001b[0mhumidity\u001b[0m\u001b[1;33m,\u001b[0m\u001b[1;33m\u001b[0m\u001b[1;33m\u001b[0m\u001b[0m\n\u001b[0;32m      4\u001b[0m             \u001b[0medgecolor\u001b[0m\u001b[1;33m=\u001b[0m\u001b[1;34m\"black\"\u001b[0m\u001b[1;33m,\u001b[0m \u001b[0mlinewidths\u001b[0m\u001b[1;33m=\u001b[0m\u001b[1;36m1\u001b[0m\u001b[1;33m,\u001b[0m \u001b[0mmarker\u001b[0m\u001b[1;33m=\u001b[0m\u001b[1;34m\"o\"\u001b[0m\u001b[1;33m,\u001b[0m\u001b[1;33m\u001b[0m\u001b[1;33m\u001b[0m\u001b[0m\n\u001b[1;32m----> 5\u001b[1;33m             alpha=0.8, label=\"Cities\")\n\u001b[0m\u001b[0;32m      6\u001b[0m \u001b[1;33m\u001b[0m\u001b[0m\n\u001b[0;32m      7\u001b[0m \u001b[1;31m# Incorporate the other graph properties.\u001b[0m\u001b[1;33m\u001b[0m\u001b[1;33m\u001b[0m\u001b[1;33m\u001b[0m\u001b[0m\n",
      "\u001b[1;32m~\\Anaconda3\\envs\\PythonData\\lib\\site-packages\\matplotlib\\pyplot.py\u001b[0m in \u001b[0;36mscatter\u001b[1;34m(x, y, s, c, marker, cmap, norm, vmin, vmax, alpha, linewidths, edgecolors, plotnonfinite, data, **kwargs)\u001b[0m\n\u001b[0;32m   2809\u001b[0m         \u001b[0mvmin\u001b[0m\u001b[1;33m=\u001b[0m\u001b[0mvmin\u001b[0m\u001b[1;33m,\u001b[0m \u001b[0mvmax\u001b[0m\u001b[1;33m=\u001b[0m\u001b[0mvmax\u001b[0m\u001b[1;33m,\u001b[0m \u001b[0malpha\u001b[0m\u001b[1;33m=\u001b[0m\u001b[0malpha\u001b[0m\u001b[1;33m,\u001b[0m \u001b[0mlinewidths\u001b[0m\u001b[1;33m=\u001b[0m\u001b[0mlinewidths\u001b[0m\u001b[1;33m,\u001b[0m\u001b[1;33m\u001b[0m\u001b[1;33m\u001b[0m\u001b[0m\n\u001b[0;32m   2810\u001b[0m         \u001b[0medgecolors\u001b[0m\u001b[1;33m=\u001b[0m\u001b[0medgecolors\u001b[0m\u001b[1;33m,\u001b[0m \u001b[0mplotnonfinite\u001b[0m\u001b[1;33m=\u001b[0m\u001b[0mplotnonfinite\u001b[0m\u001b[1;33m,\u001b[0m\u001b[1;33m\u001b[0m\u001b[1;33m\u001b[0m\u001b[0m\n\u001b[1;32m-> 2811\u001b[1;33m         **({\"data\": data} if data is not None else {}), **kwargs)\n\u001b[0m\u001b[0;32m   2812\u001b[0m     \u001b[0msci\u001b[0m\u001b[1;33m(\u001b[0m\u001b[0m__ret\u001b[0m\u001b[1;33m)\u001b[0m\u001b[1;33m\u001b[0m\u001b[1;33m\u001b[0m\u001b[0m\n\u001b[0;32m   2813\u001b[0m     \u001b[1;32mreturn\u001b[0m \u001b[0m__ret\u001b[0m\u001b[1;33m\u001b[0m\u001b[1;33m\u001b[0m\u001b[0m\n",
      "\u001b[1;32m~\\Anaconda3\\envs\\PythonData\\lib\\site-packages\\matplotlib\\__init__.py\u001b[0m in \u001b[0;36minner\u001b[1;34m(ax, data, *args, **kwargs)\u001b[0m\n\u001b[0;32m   1410\u001b[0m     \u001b[1;32mdef\u001b[0m \u001b[0minner\u001b[0m\u001b[1;33m(\u001b[0m\u001b[0max\u001b[0m\u001b[1;33m,\u001b[0m \u001b[1;33m*\u001b[0m\u001b[0margs\u001b[0m\u001b[1;33m,\u001b[0m \u001b[0mdata\u001b[0m\u001b[1;33m=\u001b[0m\u001b[1;32mNone\u001b[0m\u001b[1;33m,\u001b[0m \u001b[1;33m**\u001b[0m\u001b[0mkwargs\u001b[0m\u001b[1;33m)\u001b[0m\u001b[1;33m:\u001b[0m\u001b[1;33m\u001b[0m\u001b[1;33m\u001b[0m\u001b[0m\n\u001b[0;32m   1411\u001b[0m         \u001b[1;32mif\u001b[0m \u001b[0mdata\u001b[0m \u001b[1;32mis\u001b[0m \u001b[1;32mNone\u001b[0m\u001b[1;33m:\u001b[0m\u001b[1;33m\u001b[0m\u001b[1;33m\u001b[0m\u001b[0m\n\u001b[1;32m-> 1412\u001b[1;33m             \u001b[1;32mreturn\u001b[0m \u001b[0mfunc\u001b[0m\u001b[1;33m(\u001b[0m\u001b[0max\u001b[0m\u001b[1;33m,\u001b[0m \u001b[1;33m*\u001b[0m\u001b[0mmap\u001b[0m\u001b[1;33m(\u001b[0m\u001b[0msanitize_sequence\u001b[0m\u001b[1;33m,\u001b[0m \u001b[0margs\u001b[0m\u001b[1;33m)\u001b[0m\u001b[1;33m,\u001b[0m \u001b[1;33m**\u001b[0m\u001b[0mkwargs\u001b[0m\u001b[1;33m)\u001b[0m\u001b[1;33m\u001b[0m\u001b[1;33m\u001b[0m\u001b[0m\n\u001b[0m\u001b[0;32m   1413\u001b[0m \u001b[1;33m\u001b[0m\u001b[0m\n\u001b[0;32m   1414\u001b[0m         \u001b[0mbound\u001b[0m \u001b[1;33m=\u001b[0m \u001b[0mnew_sig\u001b[0m\u001b[1;33m.\u001b[0m\u001b[0mbind\u001b[0m\u001b[1;33m(\u001b[0m\u001b[0max\u001b[0m\u001b[1;33m,\u001b[0m \u001b[1;33m*\u001b[0m\u001b[0margs\u001b[0m\u001b[1;33m,\u001b[0m \u001b[1;33m**\u001b[0m\u001b[0mkwargs\u001b[0m\u001b[1;33m)\u001b[0m\u001b[1;33m\u001b[0m\u001b[1;33m\u001b[0m\u001b[0m\n",
      "\u001b[1;32m~\\Anaconda3\\envs\\PythonData\\lib\\site-packages\\matplotlib\\axes\\_axes.py\u001b[0m in \u001b[0;36mscatter\u001b[1;34m(self, x, y, s, c, marker, cmap, norm, vmin, vmax, alpha, linewidths, edgecolors, plotnonfinite, **kwargs)\u001b[0m\n\u001b[0;32m   4321\u001b[0m         \u001b[0my\u001b[0m \u001b[1;33m=\u001b[0m \u001b[0mnp\u001b[0m\u001b[1;33m.\u001b[0m\u001b[0mma\u001b[0m\u001b[1;33m.\u001b[0m\u001b[0mravel\u001b[0m\u001b[1;33m(\u001b[0m\u001b[0my\u001b[0m\u001b[1;33m)\u001b[0m\u001b[1;33m\u001b[0m\u001b[1;33m\u001b[0m\u001b[0m\n\u001b[0;32m   4322\u001b[0m         \u001b[1;32mif\u001b[0m \u001b[0mx\u001b[0m\u001b[1;33m.\u001b[0m\u001b[0msize\u001b[0m \u001b[1;33m!=\u001b[0m \u001b[0my\u001b[0m\u001b[1;33m.\u001b[0m\u001b[0msize\u001b[0m\u001b[1;33m:\u001b[0m\u001b[1;33m\u001b[0m\u001b[1;33m\u001b[0m\u001b[0m\n\u001b[1;32m-> 4323\u001b[1;33m             \u001b[1;32mraise\u001b[0m \u001b[0mValueError\u001b[0m\u001b[1;33m(\u001b[0m\u001b[1;34m\"x and y must be the same size\"\u001b[0m\u001b[1;33m)\u001b[0m\u001b[1;33m\u001b[0m\u001b[1;33m\u001b[0m\u001b[0m\n\u001b[0m\u001b[0;32m   4324\u001b[0m \u001b[1;33m\u001b[0m\u001b[0m\n\u001b[0;32m   4325\u001b[0m         \u001b[1;32mif\u001b[0m \u001b[0ms\u001b[0m \u001b[1;32mis\u001b[0m \u001b[1;32mNone\u001b[0m\u001b[1;33m:\u001b[0m\u001b[1;33m\u001b[0m\u001b[1;33m\u001b[0m\u001b[0m\n",
      "\u001b[1;31mValueError\u001b[0m: x and y must be the same size"
     ]
    },
    {
     "data": {
      "image/png": "[encoded data removed]",
      "text/plain": [
       "<Figure size 432x288 with 1 Axes>"
      ]
     },
     "metadata": {
      "needs_background": "light"
     },
     "output_type": "display_data"
    }
   ],
   "source": [
    "# Build the scatter plots for latitude vs. humidity.\n",
    "plt.scatter(lats,\n",
    "            humidity,\n",
    "            edgecolor=\"black\", linewidths=1, marker=\"o\",\n",
    "            alpha=0.8, label=\"Cities\")\n",
    "\n",
    "# Incorporate the other graph properties.\n",
    "plt.title(f\"City Latitude vs. Humidity \"+ time.strftime(\"%x\"))\n",
    "plt.ylabel(\"Humidity (%)\")\n",
    "plt.xlabel(\"Latitude\")\n",
    "plt.grid(True)\n",
    "# Save the figure.\n",
    "plt.savefig(\"weather_data/Fig2.png\")\n",
    "# Show plot.\n",
    "plt.show()"
   ]
  },
  {
   "cell_type": "code",
   "execution_count": null,
   "id": "8bbc4a07",
   "metadata": {},
   "outputs": [],
   "source": [
    "# Build the scatter plots for latitude vs. cloudiness.\n",
    "# Let's refactor the code for our scatter plots by changing the y-axis variable to \"cloudiness,\" \n",
    "# the title to \"Cloudiness (%),\" and the y-axis label to \"Cloudiness (%).\" (6.3.3)\n",
    "plt.scatter(lats,\n",
    "            cloudiness,\n",
    "            edgecolor=\"black\", linewidths=1, marker=\"o\",\n",
    "            alpha=0.8, label=\"Cities\")\n",
    "\n",
    "# Incorporate the other graph properties.\n",
    "plt.title(f\"City Latitude vs. Cloudiness (%) \"+ time.strftime(\"%x\"))\n",
    "plt.ylabel(\"Cloudiness (%)\")\n",
    "plt.xlabel(\"Latitude\")\n",
    "plt.grid(True)\n",
    "# Save the figure.\n",
    "plt.savefig(\"weather_data/Fig3.png\")\n",
    "# Show plot.\n",
    "plt.show()"
   ]
  },
  {
   "cell_type": "code",
   "execution_count": null,
   "id": "665eab11",
   "metadata": {},
   "outputs": [],
   "source": [
    "# Build the scatter plots for latitude vs. wind speed.\n",
    "# repurpose the code we have been using and change the y-axis variable to \"wind speed,\" \n",
    "# the title to \"Wind Speed,\" and the y-axis label to \"Wind Speed (mph).\" (6.3.4)\n",
    "plt.scatter(lats,\n",
    "            wind_speed,\n",
    "            edgecolor=\"black\", linewidths=1, marker=\"o\",\n",
    "            alpha=0.8, label=\"Cities\")\n",
    "\n",
    "# Incorporate the other graph properties.\n",
    "plt.title(f\"City Latitude vs. Wind Speed \"+ time.strftime(\"%x\"))\n",
    "plt.ylabel(\"Wind Speed (mph)\")\n",
    "plt.xlabel(\"Latitude\")\n",
    "plt.grid(True)\n",
    "# Save the figure.\n",
    "plt.savefig(\"weather_data/Fig4.png\")\n",
    "# Show plot.\n",
    "plt.show()"
   ]
  }
 ],
 "metadata": {
  "kernelspec": {
   "display_name": "PythonData",
   "language": "python",
   "name": "pythondata"
  },
  "language_info": {
   "codemirror_mode": {
    "name": "ipython",
    "version": 3
   },
   "file_extension": ".py",
   "mimetype": "text/x-python",
   "name": "python",
   "nbconvert_exporter": "python",
   "pygments_lexer": "ipython3",
   "version": "3.7.11"
  }
 },
 "nbformat": 4,
 "nbformat_minor": 5
}
