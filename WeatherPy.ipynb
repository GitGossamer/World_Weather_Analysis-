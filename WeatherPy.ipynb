{
 "cells": [
  {
   "cell_type": "code",
   "execution_count": 1,
   "id": "4082caf0",
   "metadata": {},
   "outputs": [],
   "source": [
    "# Import the dependencies.\n",
    "import pandas as pd\n",
    "import matplotlib.pyplot as plt\n",
    "import numpy as np\n",
    "\n",
    "# Use the citipy module to determine city based on latitude and longitude.\n",
    "from citipy import citipy\n"
   ]
  },
  {
   "cell_type": "code",
   "execution_count": 2,
   "id": "effe3e61",
   "metadata": {},
   "outputs": [
    {
     "data": {
      "text/plain": [
       "<zip at 0x1a892c129c8>"
      ]
     },
     "execution_count": 2,
     "metadata": {},
     "output_type": "execute_result"
    }
   ],
   "source": [
    "# Create a set of random latitude and longitude combinations.\n",
    "lats = np.random.uniform(low=-90.000, high=90.000, size=1500)\n",
    "lngs = np.random.uniform(low=-180.000, high=180.000, size=1500)\n",
    "lat_lngs = zip(lats, lngs)\n",
    "lat_lngs"
   ]
  },
  {
   "cell_type": "code",
   "execution_count": 3,
   "id": "78a2fc90",
   "metadata": {},
   "outputs": [],
   "source": [
    "# Add the latitudes and longitudes to a list.\n",
    "coordinates = list(lat_lngs)"
   ]
  },
  {
   "cell_type": "code",
   "execution_count": 4,
   "id": "39c03151",
   "metadata": {},
   "outputs": [
    {
     "name": "stdout",
     "output_type": "stream",
     "text": [
      "Requirement already satisfied: citipy in c:\\users\\m163075\\anaconda3\\envs\\pythondata\\lib\\site-packages (0.0.5)Note: you may need to restart the kernel to use updated packages.\n",
      "\n",
      "Requirement already satisfied: kdtree>=0.12 in c:\\users\\m163075\\anaconda3\\envs\\pythondata\\lib\\site-packages (from citipy) (0.16)\n"
     ]
    }
   ],
   "source": [
    "pip install citipy"
   ]
  },
  {
   "cell_type": "code",
   "execution_count": 5,
   "id": "34ed0403",
   "metadata": {},
   "outputs": [
    {
     "data": {
      "text/plain": [
       "593"
      ]
     },
     "execution_count": 5,
     "metadata": {},
     "output_type": "execute_result"
    }
   ],
   "source": [
    "# Create a list for holding the cities.\n",
    "cities = []\n",
    "# Identify the nearest city for each latitude and longitude combination.\n",
    "for coordinate in coordinates:\n",
    "    city = citipy.nearest_city(coordinate[0], coordinate[1]).city_name\n",
    "\n",
    "    # If the city is unique, then we will add it to the cities list.\n",
    "    if city not in cities:\n",
    "        cities.append(city)\n",
    "# Print the city count to confirm sufficient count.\n",
    "len(cities)"
   ]
  },
  {
   "cell_type": "code",
   "execution_count": 6,
   "id": "d2b23de7",
   "metadata": {
    "scrolled": true
   },
   "outputs": [
    {
     "name": "stdout",
     "output_type": "stream",
     "text": [
      "['khatanga', 'punta arenas', 'sambava', 'marcona', 'odry', 'saskylakh', 'hobart', 'camalu', 'mataura', 'lunen', 'sao gabriel da cachoeira', 'port alfred', 'pisco', 'alofi', 'cidreira', 'albany', 'rikitea', 'awjilah', 'norman wells', 'busselton', 'hermanus', 'nanortalik', 'butaritari', 'dunedin', 'murgab', 'illoqqortoormiut', 'hithadhoo', 'teguldet', 'sibolga', 'hilo', 'lata', 'kapaa', 'edson', 'port elizabeth', 'narsaq', 'bima', 'pevek', 'coihaique', 'mount isa', 'cockburn town', 'praya', 'ratnagiri', 'avarua', 'nikolskoye', 'norwalk', 'bredasdorp', 'sosnovo-ozerskoye', 'jogeva', 'cherskiy', 'viedma', 'upernavik', 'nizhneyansk', 'atuona', 'vaini', 'port augusta', 'kindu', 'manokwari', 'sorvag', 'atar', 'olinda', 'bluff', 'asyut', 'taolanaro', 'nikolayevsk-na-amure', 'sur', 'esperance', 'shangzhi', 'ratne', 'skibbereen', 'karnobat', 'grand river south east', 'qaanaaq', 'kang', 'thompson', 'loa janan', 'geraldton', 'vao', 'georgetown', 'two hills', 'maarianhamina', 'springfield', 'kloulklubed', 'sao filipe', 'palmer', 'kavaratti', 'ancud', 'mount gambier', 'sangar', 'yellowknife', 'ushuaia', 'hasaki', 'bara', 'ahipara', 'jamestown', 'baykit', 'castro', 'tuktoyaktuk', 'cape canaveral', 'svetlogorsk', 'poum', 'kavieng', 'tiksi', 'cape town', 'estevan', 'dinsor', 'anaconda', 'cabo san lucas', 'arraial do cabo', 'changli', 'safwah', 'noumea', 'kruisfontein', 'tera', 'umzimvubu', 'luganville', 'masvingo', 'samusu', 'ilulissat', 'amderma', 'guerrero negro', 'broome', 'smirnykh', 'kamaishi', 'port hardy', 'nabul', 'ginir', 'oranjestad', 'hunza', 'belushya guba', 'rio cuarto', 'geilo', 'tual', 'vardo', 'darhan', 'carnarvon', 'fortuna', 'pangnirtung', 'trairi', 'soldatskiy', 'sarangpur', 'mar del plata', 'ribeira brava', 'rosarito', 'chabahar', 'manavgat', 'vaitupu', 'kangaatsiaq', 'saint stephen', 'portland', 'nachingwea', 'nakapiripirit', 'pacific grove', 'dikson', 'at-bashi', 'myronivka', 'port hawkesbury', 'jiguani', 'aykhal', 'huichapan', 'bengkulu', 'buala', 'mentok', 'khatassy', 'kautokeino', 'saraland', 'rassvet', 'pemangkat', 'namibe', 'tsihombe', 'vihti', 'sinnamary', 'san patricio', 'laguna', 'hazorasp', 'severomuysk', 'brindisi', 'nagato', 'tidore', 'jiddah', 'irupi', 'barrow', 'hualmay', 'chokurdakh', 'lompoc', 'ribeira grande', 'gravdal', 'kodiak', 'praia da vitoria', 'west bay', 'katherine', 'iacu', 'kaitangata', 'samarai', 'mpanda', 'vila franca do campo', 'beringovskiy', 'chicama', 'ferkessedougou', 'ngunguru', 'altay', 'caconda', 'moanda', 'santa maria', 'walvis bay', 'hobyo', 'ust-maya', 'waikuku', 'lashio', 'port lincoln', 'aguada de pasajeros', 'ocos', 'hailar', 'mys shmidta', 'bollnas', 'porbandar', 'east london', 'chagda', 'barentsburg', 'kidsgrove', 'khandyga', 'kutum', 'alexandria', 'naze', 'westport', 'mahebourg', 'arkadelphia', 'fevralsk', 'karratha', 'san cristobal', 'piterka', 'svetlyy', 'iqaluit', 'sharjah', 'tazmalt', 'macaboboni', 'tateyama', 'rio gallegos', 'charters towers', 'san giovanni in fiore', 'tuggurt', 'college', 'port-gentil', 'toamasina', 'victoria', 'los llanos de aridane', 'pemba', 'inhambane', 'zakamensk', 'longyearbyen', 'airai', 'verona', 'puerto ayora', 'pochutla', 'attawapiskat', 'faanui', 'tabiauea', 'kisangani', 'khorramshahr', 'new norfolk', 'kahului', 'araouane', 'jalu', 'juneau', 'touros', 'chilakalurupet', 'samagaltay', 'twin falls', 'babanusah', 'barahona', 'puerto leguizamo', 'haines junction', 'diamantino', 'saint george', 'waingapu', 'qasigiannguit', 'jesup', 'lebu', 'tuatapere', 'cap-chat', 'tchibanga', 'vanavara', 'grindavik', 'ponta do sol', 'acajutla', 'kasempa', 'srednekolymsk', 'tura', 'kolyvan', 'sassandra', 'dunn', 'umm lajj', 'lavrentiya', 'muros', 'sungairaya', 'chingirlau', 'la ronge', 'ixtapa', 'jaroslaw', 'quatre cocos', 'bolungarvik', 'amasia', 'yulara', 'luderitz', 'necochea', 'itarema', 'port blair', 'wanxian', 'swinoujscie', 'conway', 'torbay', 'lasa', 'shimoda', 'kailua', 'bereda', 'nelson bay', 'shakawe', 'hamilton', 'dukhovshchina', 'mae ramat', 'ponta delgada', 'kalispell', 'nizhniy kuranakh', 'palabuhanratu', 'kontagora', 'ballina', 'picota', 'mahaicony', 'rolim de moura', 'margate', 'henties bay', 'shakiso', 'senador pompeu', 'bubaque', 'san matias', 'northam', 'huejuquilla el alto', 'hambantota', 'bejar', 'sola', 'storforshei', 'jizan', 'ankara', 'san carlos de bariloche', 'sao miguel do araguaia', 'kiunga', 'gat', 'kaithal', 'saint anthony', 'severo-kurilsk', 'kuytun', 'fort-shevchenko', 'chuy', 'saint-philippe', 'te anau', 'guamuchil', 'matara', 'flagstaff', 'rivers', 'llandrindod wells', 'baghdad', 'nemuro', 'shanhetun', 'port moresby', 'kununurra', 'paradwip', 'itaocara', 'hunchun', 'syracuse', 'lons', 'salalah', 'saldanha', 'smolensk', 'arlit', 'camacha', 'cabedelo', 'ngukurr', 'brae', 'altamont', 'pyapon', 'tiznit', 'rawson', 'alekseyevsk', 'cotonou', 'chadiza', 'pundaguitan', 'acari', 'salinopolis', 'kudahuvadhoo', 'baruun-urt', 'sentyabrskiy', 'itamaraca', 'richards bay', 'moron', 'gornyy', 'ilhabela', 'tongren', 'kynashiv', 'mhlume', 'cayenne', 'boksitogorsk', 'paracuru', 'lubango', 'oranjemund', 'furano', 'puerto penasco', 'marzuq', 'berdigestyakh', 'nanchang', 'toliary', 'padang', 'honningsvag', 'provideniya', 'comodoro rivadavia', 'gotsu', 'sistranda', 'carsamba', 'lorengau', 'burica', 'kamenskoye', 'shirgaon', 'tigzirt', 'boende', 'isangel', 'ngama', 'coahuayana', 'bethel', 'pachino', 'constitucion', 'rafai', 'virginia beach', 'voh', 'celje', 'roald', 'nguruka', 'honiara', 'varginha', 'rio grande', 'levelland', 'newport', 'luanda', 'linxia', 'wairoa', 'mtwara', 'labuhan', 'egvekinot', 'rungata', 'bon accord', 'shache', 'saint-pierre', 'novo aripuana', 'nara', 'moyo', 'husavik', 'mitrofanovka', 'szecseny', 'bella vista', 'dogondoutchi', 'coquimbo', 'sao miguel', 'kenora', 'klyuchi', 'tautira', 'teya', 'smithers', 'nyrob', 'la peca', 'kidal', 'coulihaut', 'pyaozerskiy', 'lakeville', 'vestmannaeyjar', 'sangmelima', 'severo-yeniseyskiy', 'lloydminster', 'zheleznodorozhnyy', 'gonyu', 'hovd', 'mitsamiouli', 'taltal', 'hay river', 'saiki', 'basco', 'carutapera', 'beyneu', 'lianzhou', 'souillac', 'kharp', 'quanzhou', 'half moon bay', 'tigil', 'hillsborough', 'tasiilaq', 'aklavik', 'zhuhai', 'cholet', 'avera', 'ust-nera', 'banda aceh', 'chapais', 'talara', 'bull savanna', 'seoul', 'uvarovka', 'maryville', 'verkhoyansk', 'bathsheba', 'sitka', 'norden', 'ifanadiana', 'klaksvik', 'abha', 'codrington', 'najran', 'nuuk', 'swan hill', 'san ramon', 'kumluca', 'slave lake', 'alta floresta', 'yerbogachen', 'sosnytsya', 'makat', 'ostrowiec swietokrzyski', 'znamenskoye', 'sumbawanga', 'krapivinskiy', 'flinders', 'khash', 'istanbul', 'yeppoon', 'keetmanshoop', 'ensenada', 'makakilo city', 'nome', 'abalak', 'sharlyk', 'zhangjiakou', 'kodinsk', 'eureka', 'sumbe', 'nguiu', 'hopkinsville', 'dharchula', 'horasan', 'bilara', 'mineiros', 'karaul', 'sungai siput utara', 'rocha', 'soyo', 'lewisville', 'belmonte', 'zhuanghe', 'hofn', 'marovoay', 'tumannyy', 'kenai', 'stabat', 'nouakchott', 'mezen', 'hornepayne', 'san quintin', 'ijaki', 'kirensk', 'bambous virieux', 'concepcion de buenos aires', 'le port', 'mombetsu', 'sao jose da coroa grande', 'katsuura', 'omsukchan', 'podgornoye', 'quijingue', 'jinchang', 'funtua', 'beira', 'komsomolskiy', 'yaring', 'ebebiyin', 'marystown', 'japura', 'sarangani', 'ayan', 'falam', 'sombrerete', 'conde', 'talnakh', 'asfi', 'pandan', 'bahia honda', 'korla', 'bodmin', 'high level']\n"
     ]
    }
   ],
   "source": [
    "print(cities)"
   ]
  },
  {
   "cell_type": "code",
   "execution_count": 7,
   "id": "91d67130",
   "metadata": {
    "scrolled": true
   },
   "outputs": [],
   "source": [
    "#import weather API\n",
    "from config import weather_api_key\n",
    "#import requests so that you can make calls to open weather service\n",
    "import requests"
   ]
  },
  {
   "cell_type": "code",
   "execution_count": 8,
   "id": "9f2ca6bd",
   "metadata": {},
   "outputs": [],
   "source": [
    "# Starting URL for Weather Map API Call.\n",
    "url = \"http://api.openweathermap.org/data/2.5/weather?units=Imperial&APPID=\" + weather_api_key"
   ]
  },
  {
   "cell_type": "code",
   "execution_count": 9,
   "id": "b458acb3",
   "metadata": {},
   "outputs": [
    {
     "data": {
      "text/plain": [
       "'2.27.1'"
      ]
     },
     "execution_count": 9,
     "metadata": {},
     "output_type": "execute_result"
    }
   ],
   "source": [
    "#import requests from config import weather_api_key. \n",
    "#To request JSON data over the internet, we use the Requests Library in Python.\n",
    "requests.__version__"
   ]
  },
  {
   "cell_type": "code",
   "execution_count": 10,
   "id": "24583b21",
   "metadata": {},
   "outputs": [
    {
     "name": "stdout",
     "output_type": "stream",
     "text": [
      "http://api.openweathermap.org/data/2.5/weather?units=Imperial&APPID=6c66bb8f5a2afa2447acb0843b61c5cd&q=Boston\n"
     ]
    }
   ],
   "source": [
    "# Create an endpoint URL for a city.\n",
    "city_url = url + \"&q=\" + \"Boston\"\n",
    "print(city_url)"
   ]
  },
  {
   "cell_type": "code",
   "execution_count": 11,
   "id": "4ff2e170",
   "metadata": {},
   "outputs": [
    {
     "data": {
      "text/plain": [
       "<Response [200]>"
      ]
     },
     "execution_count": 11,
     "metadata": {},
     "output_type": "execute_result"
    }
   ],
   "source": [
    "# Make a 'Get' request for the city weather.\n",
    "city_weather = requests.get(city_url)\n",
    "city_weather"
   ]
  },
  {
   "cell_type": "code",
   "execution_count": 12,
   "id": "20415a8e",
   "metadata": {},
   "outputs": [
    {
     "data": {
      "text/plain": [
       "<Response [404]>"
      ]
     },
     "execution_count": 12,
     "metadata": {},
     "output_type": "execute_result"
    }
   ],
   "source": [
    "# Create an endpoint URL for a city.\n",
    "city_url = url + \"&q=\" + \"Bston\"\n",
    "city_weather = requests.get(city_url)\n",
    "city_weather"
   ]
  },
  {
   "cell_type": "code",
   "execution_count": 13,
   "id": "9bff2e8b",
   "metadata": {},
   "outputs": [
    {
     "data": {
      "text/plain": [
       "<Response [200]>"
      ]
     },
     "execution_count": 13,
     "metadata": {},
     "output_type": "execute_result"
    }
   ],
   "source": [
    "# Create an endpoint URL for a city.\n",
    "city_url = url + \"&q=\" + \"Boston\"\n",
    "city_weather = requests.get(city_url)\n",
    "city_weather"
   ]
  },
  {
   "cell_type": "code",
   "execution_count": 14,
   "id": "85c52792",
   "metadata": {},
   "outputs": [
    {
     "data": {
      "text/plain": [
       "'{\"coord\":{\"lon\":-71.0598,\"lat\":42.3584},\"weather\":[{\"id\":300,\"main\":\"Drizzle\",\"description\":\"light intensity drizzle\",\"icon\":\"09n\"},{\"id\":741,\"main\":\"Fog\",\"description\":\"fog\",\"icon\":\"50n\"}],\"base\":\"stations\",\"main\":{\"temp\":41.67,\"feels_like\":41.67,\"temp_min\":36.52,\"temp_max\":46.85,\"pressure\":1019,\"humidity\":96},\"visibility\":402,\"wind\":{\"speed\":1.01,\"deg\":268,\"gust\":3},\"clouds\":{\"all\":100},\"dt\":1643942653,\"sys\":{\"type\":2,\"id\":2013408,\"country\":\"US\",\"sunrise\":1643889346,\"sunset\":1643925619},\"timezone\":-18000,\"id\":4930956,\"name\":\"Boston\",\"cod\":200}'"
      ]
     },
     "execution_count": 14,
     "metadata": {},
     "output_type": "execute_result"
    }
   ],
   "source": [
    "# Get the text of the 'Get' request.\n",
    "city_weather.text"
   ]
  },
  {
   "cell_type": "code",
   "execution_count": 15,
   "id": "930f25fc",
   "metadata": {},
   "outputs": [
    {
     "data": {
      "text/plain": [
       "{'coord': {'lon': -71.0598, 'lat': 42.3584},\n",
       " 'weather': [{'id': 300,\n",
       "   'main': 'Drizzle',\n",
       "   'description': 'light intensity drizzle',\n",
       "   'icon': '09n'},\n",
       "  {'id': 741, 'main': 'Fog', 'description': 'fog', 'icon': '50n'}],\n",
       " 'base': 'stations',\n",
       " 'main': {'temp': 41.67,\n",
       "  'feels_like': 41.67,\n",
       "  'temp_min': 36.52,\n",
       "  'temp_max': 46.85,\n",
       "  'pressure': 1019,\n",
       "  'humidity': 96},\n",
       " 'visibility': 402,\n",
       " 'wind': {'speed': 1.01, 'deg': 268, 'gust': 3},\n",
       " 'clouds': {'all': 100},\n",
       " 'dt': 1643942653,\n",
       " 'sys': {'type': 2,\n",
       "  'id': 2013408,\n",
       "  'country': 'US',\n",
       "  'sunrise': 1643889346,\n",
       "  'sunset': 1643925619},\n",
       " 'timezone': -18000,\n",
       " 'id': 4930956,\n",
       " 'name': 'Boston',\n",
       " 'cod': 200}"
      ]
     },
     "execution_count": 15,
     "metadata": {},
     "output_type": "execute_result"
    }
   ],
   "source": [
    "# Get the JSON text of the 'Get' request.\n",
    "city_weather.json()"
   ]
  },
  {
   "cell_type": "code",
   "execution_count": 16,
   "id": "723a2c1a",
   "metadata": {},
   "outputs": [
    {
     "name": "stdout",
     "output_type": "stream",
     "text": [
      "http://api.openweathermap.org/data/2.5/weather?units=Imperial&APPID=6c66bb8f5a2afa2447acb0843b61c5cd&q=Boston\n"
     ]
    }
   ],
   "source": [
    "print(city_url)"
   ]
  },
  {
   "cell_type": "code",
   "execution_count": 17,
   "id": "d9c0d20e",
   "metadata": {},
   "outputs": [
    {
     "data": {
      "text/plain": [
       "{'coord': {'lon': -71.0598, 'lat': 42.3584},\n",
       " 'weather': [{'id': 300,\n",
       "   'main': 'Drizzle',\n",
       "   'description': 'light intensity drizzle',\n",
       "   'icon': '09n'},\n",
       "  {'id': 741, 'main': 'Fog', 'description': 'fog', 'icon': '50n'}],\n",
       " 'base': 'stations',\n",
       " 'main': {'temp': 41.67,\n",
       "  'feels_like': 41.67,\n",
       "  'temp_min': 36.52,\n",
       "  'temp_max': 46.85,\n",
       "  'pressure': 1019,\n",
       "  'humidity': 96},\n",
       " 'visibility': 402,\n",
       " 'wind': {'speed': 1.01, 'deg': 268, 'gust': 3},\n",
       " 'clouds': {'all': 100},\n",
       " 'dt': 1643942653,\n",
       " 'sys': {'type': 2,\n",
       "  'id': 2013408,\n",
       "  'country': 'US',\n",
       "  'sunrise': 1643889346,\n",
       "  'sunset': 1643925619},\n",
       " 'timezone': -18000,\n",
       " 'id': 4930956,\n",
       " 'name': 'Boston',\n",
       " 'cod': 200}"
      ]
     },
     "execution_count": 17,
     "metadata": {},
     "output_type": "execute_result"
    }
   ],
   "source": [
    "# Create an endpoint URL for a city.\n",
    "city_url = url + \"&q=\" + \"Boston\"\n",
    "city_weather = requests.get(city_url)\n",
    "city_weather.json()"
   ]
  },
  {
   "cell_type": "code",
   "execution_count": 18,
   "id": "fa1837dd",
   "metadata": {},
   "outputs": [],
   "source": [
    "# Get the JSON data.\n",
    "boston_data = city_weather.json()"
   ]
  },
  {
   "cell_type": "code",
   "execution_count": 19,
   "id": "c58d6543",
   "metadata": {},
   "outputs": [
    {
     "data": {
      "text/plain": [
       "{'type': 2,\n",
       " 'id': 2013408,\n",
       " 'country': 'US',\n",
       " 'sunrise': 1643889346,\n",
       " 'sunset': 1643925619}"
      ]
     },
     "execution_count": 19,
     "metadata": {},
     "output_type": "execute_result"
    }
   ],
   "source": [
    "# The values for the sunrise and sunset keys are the time of day in seconds in a database timestamp format\n",
    "boston_data['sys']"
   ]
  },
  {
   "cell_type": "code",
   "execution_count": 20,
   "id": "784e81c7",
   "metadata": {},
   "outputs": [
    {
     "data": {
      "text/plain": [
       "1643942653"
      ]
     },
     "execution_count": 20,
     "metadata": {},
     "output_type": "execute_result"
    }
   ],
   "source": [
    "# If we want to retrieve the date in the weather data, we would add the \"dt\" key to the boston_data variable\n",
    "boston_data[\"dt\"]"
   ]
  },
  {
   "cell_type": "code",
   "execution_count": 21,
   "id": "adea1d3d",
   "metadata": {},
   "outputs": [
    {
     "data": {
      "text/plain": [
       "42.3584"
      ]
     },
     "execution_count": 21,
     "metadata": {},
     "output_type": "execute_result"
    }
   ],
   "source": [
    "# Retreive latitude value from the Boston JSON data:\n",
    "boston_data[\"coord\"][\"lat\"]"
   ]
  },
  {
   "cell_type": "code",
   "execution_count": 22,
   "id": "5077f441",
   "metadata": {},
   "outputs": [
    {
     "data": {
      "text/plain": [
       "46.85"
      ]
     },
     "execution_count": 22,
     "metadata": {},
     "output_type": "execute_result"
    }
   ],
   "source": [
    "# Get the maximum temperature value from the Boston JSON data\n",
    "boston_data[\"main\"][\"temp_max\"]"
   ]
  },
  {
   "cell_type": "code",
   "execution_count": 23,
   "id": "8709d42c",
   "metadata": {},
   "outputs": [
    {
     "name": "stdout",
     "output_type": "stream",
     "text": [
      "42.3584 -71.0598 46.85 96 100 1.01\n"
     ]
    }
   ],
   "source": [
    "lat = boston_data[\"coord\"][\"lat\"]\n",
    "lng = boston_data[\"coord\"][\"lon\"]\n",
    "max_temp = boston_data[\"main\"][\"temp_max\"]\n",
    "humidity = boston_data[\"main\"][\"humidity\"]\n",
    "clouds = boston_data[\"clouds\"][\"all\"]\n",
    "wind = boston_data[\"wind\"][\"speed\"]\n",
    "print(lat, lng, max_temp, humidity, clouds, wind)"
   ]
  },
  {
   "cell_type": "code",
   "execution_count": 24,
   "id": "b9cac211",
   "metadata": {},
   "outputs": [
    {
     "data": {
      "text/plain": [
       "datetime.datetime(2022, 2, 4, 2, 44, 13)"
      ]
     },
     "execution_count": 24,
     "metadata": {},
     "output_type": "execute_result"
    }
   ],
   "source": [
    "# Import the datetime module from the datetime library.\n",
    "from datetime import datetime\n",
    "\n",
    "# Get the date from the JSON file.\n",
    "date = boston_data[\"dt\"]\n",
    "\n",
    "# Convert the UTC date to a date format with year, month, day, hours, minutes, and seconds.\n",
    "datetime.utcfromtimestamp(date)"
   ]
  },
  {
   "cell_type": "code",
   "execution_count": 25,
   "id": "af6dd326",
   "metadata": {},
   "outputs": [
    {
     "data": {
      "text/plain": [
       "'2022-02-04 02:44:13'"
      ]
     },
     "execution_count": 25,
     "metadata": {},
     "output_type": "execute_result"
    }
   ],
   "source": [
    "# We can convert this datetime format to 2022-02-03 22:41:37 using the Python string format method strftime() \n",
    "# and adding how we want the string to look inside the parentheses.\n",
    "datetime.utcfromtimestamp(date).strftime('%Y-%m-%d %H:%M:%S')"
   ]
  },
  {
   "cell_type": "code",
   "execution_count": 26,
   "id": "ced160bc",
   "metadata": {},
   "outputs": [],
   "source": [
    "city_data = []"
   ]
  },
  {
   "cell_type": "code",
   "execution_count": 27,
   "id": "5f721cec",
   "metadata": {},
   "outputs": [],
   "source": [
    "# Import the time library and the datetime module from the datetime library \n",
    "import time\n",
    "from datetime import datetime"
   ]
  },
  {
   "cell_type": "code",
   "execution_count": 28,
   "id": "44d48f65",
   "metadata": {},
   "outputs": [
    {
     "name": "stdout",
     "output_type": "stream",
     "text": [
      "Beginning Data Retrieval     \n",
      "-----------------------------\n"
     ]
    }
   ],
   "source": [
    "# Create an empty list to hold the weather data.\n",
    "city_data = []\n",
    "# Print the beginning of the logging.\n",
    "print(\"Beginning Data Retrieval     \")\n",
    "print(\"-----------------------------\")\n",
    "\n",
    "# Create counters.\n",
    "record_count = 1\n",
    "set_count = 1"
   ]
  },
  {
   "cell_type": "code",
   "execution_count": null,
   "id": "af0fd1f4",
   "metadata": {},
   "outputs": [],
   "source": [
    "# Loop through all the cities in our list (6.2.6).\n",
    "for i in range(len(cities)):\n",
    "\n",
    "    # Group cities in sets of 50 for logging purposes.\n",
    "    if (i % 50 == 0 and i >= 50):\n",
    "        set_count += 1\n",
    "        record_count = 1\n",
    "        time.sleep(60)\n",
    "\n",
    "    # Create endpoint URL with each city.\n",
    "    city_url = url + \"&q=\" + cities[i]"
   ]
  },
  {
   "cell_type": "code",
   "execution_count": null,
   "id": "b115868d",
   "metadata": {},
   "outputs": [],
   "source": [
    "# Loop through all the cities in the list (6.2.6).\n",
    "for i, city in enumerate(cities):\n",
    "\n",
    "    # Group cities in sets of 50 for logging purposes.\n",
    "    if (i % 50 == 0 and i >= 50):\n",
    "        set_count += 1\n",
    "        record_count = 1\n",
    "        time.sleep(60)\n",
    "\n",
    "    # Create endpoint URL with each city.\n",
    "    city_url = url + \"&q=\" + city.replace(\" \",\"+\")\n",
    "\n",
    "    # Log the URL, record, and set numbers and the city.\n",
    "    print(f\"Processing Record {record_count} of Set {set_count} | {city}\")\n",
    "    # Add 1 to the record count.\n",
    "    record_count += 1"
   ]
  },
  {
   "cell_type": "code",
   "execution_count": null,
   "id": "18f7a184",
   "metadata": {},
   "outputs": [],
   "source": [
    "# Run an API request for each of the cities.\n",
    "    try:\n",
    "        # Parse the JSON and retrieve data.\n",
    "        city_weather = requests.get(city_url).json()\n",
    "        \n",
    "        # Parse out the needed data.\n",
    "        city_lat = city_weather[\"coord\"][\"lat\"]\n",
    "        city_lng = city_weather[\"coord\"][\"lon\"]\n",
    "        city_max_temp = city_weather[\"main\"][\"temp_max\"]\n",
    "        city_humidity = city_weather[\"main\"][\"humidity\"]\n",
    "        city_clouds = city_weather[\"clouds\"][\"all\"]\n",
    "        city_wind = city_weather[\"wind\"][\"speed\"]\n",
    "        city_country = city_weather[\"sys\"][\"country\"]\n",
    "        \n",
    "        # Convert the date to ISO standard.\n",
    "        city_date = datetime.utcfromtimestamp(city_weather[\"dt\"]).strftime('%Y-%m-%d %H:%M:%S')\n",
    "        \n",
    "        # Append the city information into city_data list.\n",
    "        city_data.append({\"City\": city.title(),\n",
    "                          \"Lat\": city_lat,\n",
    "                          \"Lng\": city_lng,\n",
    "                          \"Max Temp\": city_max_temp,\n",
    "                          \"Humidity\": city_humidity,\n",
    "                          \"Cloudiness\": city_clouds,\n",
    "                          \"Wind Speed\": city_wind,\n",
    "                          \"Country\": city_country,\n",
    "                          \"Date\": city_date})\n",
    "\n",
    "# If an error is experienced, skip the city.\n",
    "    except:\n",
    "        print(\"City not found. Skipping...\")\n",
    "        pass\n",
    "\n",
    "# Indicate that Data Loading is complete.\n",
    "print(\"-----------------------------\")\n",
    "print(\"Data Retrieval Complete      \")\n",
    "print(\"-----------------------------\")"
   ]
  },
  {
   "cell_type": "code",
   "execution_count": null,
   "id": "9b1398e2",
   "metadata": {},
   "outputs": [],
   "source": [
    "# Convert the array of dictionaries to a Pandas DataFrame.\n",
    "city_data_df = pd.DataFrame(city_data)\n",
    "city_data_df.head(10)"
   ]
  },
  {
   "cell_type": "code",
   "execution_count": null,
   "id": "af142205",
   "metadata": {},
   "outputs": [],
   "source": [
    "# Create the output file (CSV).\n",
    "output_data_file = \"weather_data/cities.csv\"\n",
    "# Export the City_Data into a CSV.\n",
    "city_data_df.to_csv(output_data_file, index_label=\"City_ID\")"
   ]
  },
  {
   "cell_type": "code",
   "execution_count": null,
   "id": "9f5042d5",
   "metadata": {},
   "outputs": [],
   "source": []
  }
 ],
 "metadata": {
  "kernelspec": {
   "display_name": "PythonData",
   "language": "python",
   "name": "pythondata"
  },
  "language_info": {
   "codemirror_mode": {
    "name": "ipython",
    "version": 3
   },
   "file_extension": ".py",
   "mimetype": "text/x-python",
   "name": "python",
   "nbconvert_exporter": "python",
   "pygments_lexer": "ipython3",
   "version": "3.7.11"
  }
 },
 "nbformat": 4,
 "nbformat_minor": 5
}
